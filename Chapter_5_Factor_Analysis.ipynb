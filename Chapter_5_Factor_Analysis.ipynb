{
  "nbformat": 4,
  "nbformat_minor": 0,
  "metadata": {
    "colab": {
      "name": "Chapter_5_Factor_Analysis.ipynb",
      "provenance": [],
      "authorship_tag": "ABX9TyPTYks945qHhqUG1rQGCo1c",
      "include_colab_link": true
    },
    "kernelspec": {
      "name": "python3",
      "display_name": "Python 3"
    },
    "language_info": {
      "name": "python"
    }
  },
  "cells": [
    {
      "cell_type": "markdown",
      "metadata": {
        "id": "view-in-github",
        "colab_type": "text"
      },
      "source": [
        "<a href=\"https://colab.research.google.com/github/siriwat-heart/Multivariate/blob/main/Chapter_5_Factor_Analysis.ipynb\" target=\"_parent\"><img src=\"https://colab.research.google.com/assets/colab-badge.svg\" alt=\"Open In Colab\"/></a>"
      ]
    },
    {
      "cell_type": "markdown",
      "metadata": {
        "id": "mk72Mk2Wb8ly"
      },
      "source": [
        "https://www.datacamp.com/community/tutorials/introduction-factor-analysis"
      ]
    },
    {
      "cell_type": "code",
      "metadata": {
        "id": "H3lugfKBbzHk"
      },
      "source": [
        "import pandas as pd"
      ],
      "execution_count": 29,
      "outputs": []
    },
    {
      "cell_type": "code",
      "metadata": {
        "colab": {
          "base_uri": "https://localhost:8080/",
          "height": 239
        },
        "id": "5z8SjgPXb-m9",
        "outputId": "7a2a106f-d6d0-441f-d047-dfe006aa4dcb"
      },
      "source": [
        "BFI_data = pd.read_csv('https://vincentarelbundock.github.io/Rdatasets/csv/psych/bfi.csv')\n",
        "BFI_data.head()"
      ],
      "execution_count": 30,
      "outputs": [
        {
          "output_type": "execute_result",
          "data": {
            "text/html": [
              "<div>\n",
              "<style scoped>\n",
              "    .dataframe tbody tr th:only-of-type {\n",
              "        vertical-align: middle;\n",
              "    }\n",
              "\n",
              "    .dataframe tbody tr th {\n",
              "        vertical-align: top;\n",
              "    }\n",
              "\n",
              "    .dataframe thead th {\n",
              "        text-align: right;\n",
              "    }\n",
              "</style>\n",
              "<table border=\"1\" class=\"dataframe\">\n",
              "  <thead>\n",
              "    <tr style=\"text-align: right;\">\n",
              "      <th></th>\n",
              "      <th>Unnamed: 0</th>\n",
              "      <th>A1</th>\n",
              "      <th>A2</th>\n",
              "      <th>A3</th>\n",
              "      <th>A4</th>\n",
              "      <th>A5</th>\n",
              "      <th>C1</th>\n",
              "      <th>C2</th>\n",
              "      <th>C3</th>\n",
              "      <th>C4</th>\n",
              "      <th>C5</th>\n",
              "      <th>E1</th>\n",
              "      <th>E2</th>\n",
              "      <th>E3</th>\n",
              "      <th>E4</th>\n",
              "      <th>E5</th>\n",
              "      <th>N1</th>\n",
              "      <th>N2</th>\n",
              "      <th>N3</th>\n",
              "      <th>N4</th>\n",
              "      <th>N5</th>\n",
              "      <th>O1</th>\n",
              "      <th>O2</th>\n",
              "      <th>O3</th>\n",
              "      <th>O4</th>\n",
              "      <th>O5</th>\n",
              "      <th>gender</th>\n",
              "      <th>education</th>\n",
              "      <th>age</th>\n",
              "    </tr>\n",
              "  </thead>\n",
              "  <tbody>\n",
              "    <tr>\n",
              "      <th>0</th>\n",
              "      <td>61617</td>\n",
              "      <td>2.0</td>\n",
              "      <td>4.0</td>\n",
              "      <td>3.0</td>\n",
              "      <td>4.0</td>\n",
              "      <td>4.0</td>\n",
              "      <td>2.0</td>\n",
              "      <td>3.0</td>\n",
              "      <td>3.0</td>\n",
              "      <td>4.0</td>\n",
              "      <td>4.0</td>\n",
              "      <td>3.0</td>\n",
              "      <td>3.0</td>\n",
              "      <td>3.0</td>\n",
              "      <td>4.0</td>\n",
              "      <td>4.0</td>\n",
              "      <td>3.0</td>\n",
              "      <td>4.0</td>\n",
              "      <td>2.0</td>\n",
              "      <td>2.0</td>\n",
              "      <td>3.0</td>\n",
              "      <td>3.0</td>\n",
              "      <td>6</td>\n",
              "      <td>3.0</td>\n",
              "      <td>4.0</td>\n",
              "      <td>3.0</td>\n",
              "      <td>1</td>\n",
              "      <td>NaN</td>\n",
              "      <td>16</td>\n",
              "    </tr>\n",
              "    <tr>\n",
              "      <th>1</th>\n",
              "      <td>61618</td>\n",
              "      <td>2.0</td>\n",
              "      <td>4.0</td>\n",
              "      <td>5.0</td>\n",
              "      <td>2.0</td>\n",
              "      <td>5.0</td>\n",
              "      <td>5.0</td>\n",
              "      <td>4.0</td>\n",
              "      <td>4.0</td>\n",
              "      <td>3.0</td>\n",
              "      <td>4.0</td>\n",
              "      <td>1.0</td>\n",
              "      <td>1.0</td>\n",
              "      <td>6.0</td>\n",
              "      <td>4.0</td>\n",
              "      <td>3.0</td>\n",
              "      <td>3.0</td>\n",
              "      <td>3.0</td>\n",
              "      <td>3.0</td>\n",
              "      <td>5.0</td>\n",
              "      <td>5.0</td>\n",
              "      <td>4.0</td>\n",
              "      <td>2</td>\n",
              "      <td>4.0</td>\n",
              "      <td>3.0</td>\n",
              "      <td>3.0</td>\n",
              "      <td>2</td>\n",
              "      <td>NaN</td>\n",
              "      <td>18</td>\n",
              "    </tr>\n",
              "    <tr>\n",
              "      <th>2</th>\n",
              "      <td>61620</td>\n",
              "      <td>5.0</td>\n",
              "      <td>4.0</td>\n",
              "      <td>5.0</td>\n",
              "      <td>4.0</td>\n",
              "      <td>4.0</td>\n",
              "      <td>4.0</td>\n",
              "      <td>5.0</td>\n",
              "      <td>4.0</td>\n",
              "      <td>2.0</td>\n",
              "      <td>5.0</td>\n",
              "      <td>2.0</td>\n",
              "      <td>4.0</td>\n",
              "      <td>4.0</td>\n",
              "      <td>4.0</td>\n",
              "      <td>5.0</td>\n",
              "      <td>4.0</td>\n",
              "      <td>5.0</td>\n",
              "      <td>4.0</td>\n",
              "      <td>2.0</td>\n",
              "      <td>3.0</td>\n",
              "      <td>4.0</td>\n",
              "      <td>2</td>\n",
              "      <td>5.0</td>\n",
              "      <td>5.0</td>\n",
              "      <td>2.0</td>\n",
              "      <td>2</td>\n",
              "      <td>NaN</td>\n",
              "      <td>17</td>\n",
              "    </tr>\n",
              "    <tr>\n",
              "      <th>3</th>\n",
              "      <td>61621</td>\n",
              "      <td>4.0</td>\n",
              "      <td>4.0</td>\n",
              "      <td>6.0</td>\n",
              "      <td>5.0</td>\n",
              "      <td>5.0</td>\n",
              "      <td>4.0</td>\n",
              "      <td>4.0</td>\n",
              "      <td>3.0</td>\n",
              "      <td>5.0</td>\n",
              "      <td>5.0</td>\n",
              "      <td>5.0</td>\n",
              "      <td>3.0</td>\n",
              "      <td>4.0</td>\n",
              "      <td>4.0</td>\n",
              "      <td>4.0</td>\n",
              "      <td>2.0</td>\n",
              "      <td>5.0</td>\n",
              "      <td>2.0</td>\n",
              "      <td>4.0</td>\n",
              "      <td>1.0</td>\n",
              "      <td>3.0</td>\n",
              "      <td>3</td>\n",
              "      <td>4.0</td>\n",
              "      <td>3.0</td>\n",
              "      <td>5.0</td>\n",
              "      <td>2</td>\n",
              "      <td>NaN</td>\n",
              "      <td>17</td>\n",
              "    </tr>\n",
              "    <tr>\n",
              "      <th>4</th>\n",
              "      <td>61622</td>\n",
              "      <td>2.0</td>\n",
              "      <td>3.0</td>\n",
              "      <td>3.0</td>\n",
              "      <td>4.0</td>\n",
              "      <td>5.0</td>\n",
              "      <td>4.0</td>\n",
              "      <td>4.0</td>\n",
              "      <td>5.0</td>\n",
              "      <td>3.0</td>\n",
              "      <td>2.0</td>\n",
              "      <td>2.0</td>\n",
              "      <td>2.0</td>\n",
              "      <td>5.0</td>\n",
              "      <td>4.0</td>\n",
              "      <td>5.0</td>\n",
              "      <td>2.0</td>\n",
              "      <td>3.0</td>\n",
              "      <td>4.0</td>\n",
              "      <td>4.0</td>\n",
              "      <td>3.0</td>\n",
              "      <td>3.0</td>\n",
              "      <td>3</td>\n",
              "      <td>4.0</td>\n",
              "      <td>3.0</td>\n",
              "      <td>3.0</td>\n",
              "      <td>1</td>\n",
              "      <td>NaN</td>\n",
              "      <td>17</td>\n",
              "    </tr>\n",
              "  </tbody>\n",
              "</table>\n",
              "</div>"
            ],
            "text/plain": [
              "   Unnamed: 0   A1   A2   A3   A4   A5  ...   O3   O4   O5  gender  education  age\n",
              "0       61617  2.0  4.0  3.0  4.0  4.0  ...  3.0  4.0  3.0       1        NaN   16\n",
              "1       61618  2.0  4.0  5.0  2.0  5.0  ...  4.0  3.0  3.0       2        NaN   18\n",
              "2       61620  5.0  4.0  5.0  4.0  4.0  ...  5.0  5.0  2.0       2        NaN   17\n",
              "3       61621  4.0  4.0  6.0  5.0  5.0  ...  4.0  3.0  5.0       2        NaN   17\n",
              "4       61622  2.0  3.0  3.0  4.0  5.0  ...  4.0  3.0  3.0       1        NaN   17\n",
              "\n",
              "[5 rows x 29 columns]"
            ]
          },
          "metadata": {
            "tags": []
          },
          "execution_count": 30
        }
      ]
    },
    {
      "cell_type": "markdown",
      "metadata": {
        "id": "lPWzuwpEcN2B"
      },
      "source": [
        "#Factor Analysis\n",
        "\n",
        "## Assumptions: \n",
        "\n",
        "ในข้อมูล multivariate ที่มีตัวแปร Observe Variables จำนวน n ตัว\n",
        "\n",
        "มีตัวแปร Factors (Latent Variables) จำนวน k ตัว ที่สามารถอธิบายข้อมูลทั้งหมดได้\n",
        "\n",
        "โดย k < n\n",
        "\n",
        "![1.png](data:image/png;base64,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)"
      ]
    },
    {
      "cell_type": "markdown",
      "metadata": {
        "id": "bPjk4NrEcSGy"
      },
      "source": [
        "Assumptions ในการทำ Factor Analysis:\n",
        "\n",
        "* There are no outliers in data.\n",
        "* Sample size should be greater than the factor.\n",
        "* There should not be ***perfect multicollinearity***.\n",
        "* There should not be ***homoscedasticity*** between the variables."
      ]
    },
    {
      "cell_type": "markdown",
      "metadata": {
        "id": "MK-MOBE1cU16"
      },
      "source": [
        "## การทำ Factor Analysis"
      ]
    },
    {
      "cell_type": "code",
      "metadata": {
        "id": "SGwn5PjWxmE0",
        "colab": {
          "base_uri": "https://localhost:8080/"
        },
        "outputId": "925d66ec-5f1b-43ae-cf12-e4b0fe65d86f"
      },
      "source": [
        "!pip install factor_analyzer\n",
        "##แก้ Error ด้วยการ install\n",
        "from factor_analyzer import FactorAnalyzer\n",
        "import matplotlib.pyplot as plt \n",
        "## เหมือนกับ from matplotlib import pyplot as plt"
      ],
      "execution_count": 31,
      "outputs": [
        {
          "output_type": "stream",
          "text": [
            "Requirement already satisfied: factor_analyzer in /usr/local/lib/python3.7/dist-packages (0.3.2)\n",
            "Requirement already satisfied: pandas in /usr/local/lib/python3.7/dist-packages (from factor_analyzer) (1.1.5)\n",
            "Requirement already satisfied: scipy in /usr/local/lib/python3.7/dist-packages (from factor_analyzer) (1.4.1)\n",
            "Requirement already satisfied: numpy in /usr/local/lib/python3.7/dist-packages (from factor_analyzer) (1.19.5)\n",
            "Requirement already satisfied: scikit-learn in /usr/local/lib/python3.7/dist-packages (from factor_analyzer) (0.22.2.post1)\n",
            "Requirement already satisfied: pytz>=2017.2 in /usr/local/lib/python3.7/dist-packages (from pandas->factor_analyzer) (2018.9)\n",
            "Requirement already satisfied: python-dateutil>=2.7.3 in /usr/local/lib/python3.7/dist-packages (from pandas->factor_analyzer) (2.8.1)\n",
            "Requirement already satisfied: joblib>=0.11 in /usr/local/lib/python3.7/dist-packages (from scikit-learn->factor_analyzer) (1.0.1)\n",
            "Requirement already satisfied: six>=1.5 in /usr/local/lib/python3.7/dist-packages (from python-dateutil>=2.7.3->pandas->factor_analyzer) (1.15.0)\n"
          ],
          "name": "stdout"
        }
      ]
    },
    {
      "cell_type": "markdown",
      "metadata": {
        "id": "S0ATDzt2cqRa"
      },
      "source": [
        "## Quiz 5 เลือกข้อมูลมาเฉพาะ a1,a2,a3,...,o3,o4,o5 ด้วยคำสั่ง ```.iloc[]```"
      ]
    },
    {
      "cell_type": "code",
      "metadata": {
        "id": "7GFUH77AcoPY",
        "colab": {
          "base_uri": "https://localhost:8080/"
        },
        "outputId": "e513d3c1-36e2-4535-89a8-3eefa8bbc032"
      },
      "source": [
        "BFI_data.shape"
      ],
      "execution_count": 32,
      "outputs": [
        {
          "output_type": "execute_result",
          "data": {
            "text/plain": [
              "(2800, 29)"
            ]
          },
          "metadata": {
            "tags": []
          },
          "execution_count": 32
        }
      ]
    },
    {
      "cell_type": "code",
      "metadata": {
        "id": "EmNVnF42csea",
        "colab": {
          "base_uri": "https://localhost:8080/",
          "height": 435
        },
        "outputId": "0451c41f-2b7f-410e-c236-a87abfa293d4"
      },
      "source": [
        "BFI_data_dropped = BFI_data.iloc[:,1:26]\n",
        "BFI_data_dropped"
      ],
      "execution_count": 34,
      "outputs": [
        {
          "output_type": "execute_result",
          "data": {
            "text/html": [
              "<div>\n",
              "<style scoped>\n",
              "    .dataframe tbody tr th:only-of-type {\n",
              "        vertical-align: middle;\n",
              "    }\n",
              "\n",
              "    .dataframe tbody tr th {\n",
              "        vertical-align: top;\n",
              "    }\n",
              "\n",
              "    .dataframe thead th {\n",
              "        text-align: right;\n",
              "    }\n",
              "</style>\n",
              "<table border=\"1\" class=\"dataframe\">\n",
              "  <thead>\n",
              "    <tr style=\"text-align: right;\">\n",
              "      <th></th>\n",
              "      <th>A1</th>\n",
              "      <th>A2</th>\n",
              "      <th>A3</th>\n",
              "      <th>A4</th>\n",
              "      <th>A5</th>\n",
              "      <th>C1</th>\n",
              "      <th>C2</th>\n",
              "      <th>C3</th>\n",
              "      <th>C4</th>\n",
              "      <th>C5</th>\n",
              "      <th>E1</th>\n",
              "      <th>E2</th>\n",
              "      <th>E3</th>\n",
              "      <th>E4</th>\n",
              "      <th>E5</th>\n",
              "      <th>N1</th>\n",
              "      <th>N2</th>\n",
              "      <th>N3</th>\n",
              "      <th>N4</th>\n",
              "      <th>N5</th>\n",
              "      <th>O1</th>\n",
              "      <th>O2</th>\n",
              "      <th>O3</th>\n",
              "      <th>O4</th>\n",
              "      <th>O5</th>\n",
              "    </tr>\n",
              "  </thead>\n",
              "  <tbody>\n",
              "    <tr>\n",
              "      <th>0</th>\n",
              "      <td>2.0</td>\n",
              "      <td>4.0</td>\n",
              "      <td>3.0</td>\n",
              "      <td>4.0</td>\n",
              "      <td>4.0</td>\n",
              "      <td>2.0</td>\n",
              "      <td>3.0</td>\n",
              "      <td>3.0</td>\n",
              "      <td>4.0</td>\n",
              "      <td>4.0</td>\n",
              "      <td>3.0</td>\n",
              "      <td>3.0</td>\n",
              "      <td>3.0</td>\n",
              "      <td>4.0</td>\n",
              "      <td>4.0</td>\n",
              "      <td>3.0</td>\n",
              "      <td>4.0</td>\n",
              "      <td>2.0</td>\n",
              "      <td>2.0</td>\n",
              "      <td>3.0</td>\n",
              "      <td>3.0</td>\n",
              "      <td>6</td>\n",
              "      <td>3.0</td>\n",
              "      <td>4.0</td>\n",
              "      <td>3.0</td>\n",
              "    </tr>\n",
              "    <tr>\n",
              "      <th>1</th>\n",
              "      <td>2.0</td>\n",
              "      <td>4.0</td>\n",
              "      <td>5.0</td>\n",
              "      <td>2.0</td>\n",
              "      <td>5.0</td>\n",
              "      <td>5.0</td>\n",
              "      <td>4.0</td>\n",
              "      <td>4.0</td>\n",
              "      <td>3.0</td>\n",
              "      <td>4.0</td>\n",
              "      <td>1.0</td>\n",
              "      <td>1.0</td>\n",
              "      <td>6.0</td>\n",
              "      <td>4.0</td>\n",
              "      <td>3.0</td>\n",
              "      <td>3.0</td>\n",
              "      <td>3.0</td>\n",
              "      <td>3.0</td>\n",
              "      <td>5.0</td>\n",
              "      <td>5.0</td>\n",
              "      <td>4.0</td>\n",
              "      <td>2</td>\n",
              "      <td>4.0</td>\n",
              "      <td>3.0</td>\n",
              "      <td>3.0</td>\n",
              "    </tr>\n",
              "    <tr>\n",
              "      <th>2</th>\n",
              "      <td>5.0</td>\n",
              "      <td>4.0</td>\n",
              "      <td>5.0</td>\n",
              "      <td>4.0</td>\n",
              "      <td>4.0</td>\n",
              "      <td>4.0</td>\n",
              "      <td>5.0</td>\n",
              "      <td>4.0</td>\n",
              "      <td>2.0</td>\n",
              "      <td>5.0</td>\n",
              "      <td>2.0</td>\n",
              "      <td>4.0</td>\n",
              "      <td>4.0</td>\n",
              "      <td>4.0</td>\n",
              "      <td>5.0</td>\n",
              "      <td>4.0</td>\n",
              "      <td>5.0</td>\n",
              "      <td>4.0</td>\n",
              "      <td>2.0</td>\n",
              "      <td>3.0</td>\n",
              "      <td>4.0</td>\n",
              "      <td>2</td>\n",
              "      <td>5.0</td>\n",
              "      <td>5.0</td>\n",
              "      <td>2.0</td>\n",
              "    </tr>\n",
              "    <tr>\n",
              "      <th>3</th>\n",
              "      <td>4.0</td>\n",
              "      <td>4.0</td>\n",
              "      <td>6.0</td>\n",
              "      <td>5.0</td>\n",
              "      <td>5.0</td>\n",
              "      <td>4.0</td>\n",
              "      <td>4.0</td>\n",
              "      <td>3.0</td>\n",
              "      <td>5.0</td>\n",
              "      <td>5.0</td>\n",
              "      <td>5.0</td>\n",
              "      <td>3.0</td>\n",
              "      <td>4.0</td>\n",
              "      <td>4.0</td>\n",
              "      <td>4.0</td>\n",
              "      <td>2.0</td>\n",
              "      <td>5.0</td>\n",
              "      <td>2.0</td>\n",
              "      <td>4.0</td>\n",
              "      <td>1.0</td>\n",
              "      <td>3.0</td>\n",
              "      <td>3</td>\n",
              "      <td>4.0</td>\n",
              "      <td>3.0</td>\n",
              "      <td>5.0</td>\n",
              "    </tr>\n",
              "    <tr>\n",
              "      <th>4</th>\n",
              "      <td>2.0</td>\n",
              "      <td>3.0</td>\n",
              "      <td>3.0</td>\n",
              "      <td>4.0</td>\n",
              "      <td>5.0</td>\n",
              "      <td>4.0</td>\n",
              "      <td>4.0</td>\n",
              "      <td>5.0</td>\n",
              "      <td>3.0</td>\n",
              "      <td>2.0</td>\n",
              "      <td>2.0</td>\n",
              "      <td>2.0</td>\n",
              "      <td>5.0</td>\n",
              "      <td>4.0</td>\n",
              "      <td>5.0</td>\n",
              "      <td>2.0</td>\n",
              "      <td>3.0</td>\n",
              "      <td>4.0</td>\n",
              "      <td>4.0</td>\n",
              "      <td>3.0</td>\n",
              "      <td>3.0</td>\n",
              "      <td>3</td>\n",
              "      <td>4.0</td>\n",
              "      <td>3.0</td>\n",
              "      <td>3.0</td>\n",
              "    </tr>\n",
              "    <tr>\n",
              "      <th>...</th>\n",
              "      <td>...</td>\n",
              "      <td>...</td>\n",
              "      <td>...</td>\n",
              "      <td>...</td>\n",
              "      <td>...</td>\n",
              "      <td>...</td>\n",
              "      <td>...</td>\n",
              "      <td>...</td>\n",
              "      <td>...</td>\n",
              "      <td>...</td>\n",
              "      <td>...</td>\n",
              "      <td>...</td>\n",
              "      <td>...</td>\n",
              "      <td>...</td>\n",
              "      <td>...</td>\n",
              "      <td>...</td>\n",
              "      <td>...</td>\n",
              "      <td>...</td>\n",
              "      <td>...</td>\n",
              "      <td>...</td>\n",
              "      <td>...</td>\n",
              "      <td>...</td>\n",
              "      <td>...</td>\n",
              "      <td>...</td>\n",
              "      <td>...</td>\n",
              "    </tr>\n",
              "    <tr>\n",
              "      <th>2795</th>\n",
              "      <td>6.0</td>\n",
              "      <td>1.0</td>\n",
              "      <td>3.0</td>\n",
              "      <td>3.0</td>\n",
              "      <td>3.0</td>\n",
              "      <td>6.0</td>\n",
              "      <td>6.0</td>\n",
              "      <td>6.0</td>\n",
              "      <td>1.0</td>\n",
              "      <td>1.0</td>\n",
              "      <td>1.0</td>\n",
              "      <td>4.0</td>\n",
              "      <td>5.0</td>\n",
              "      <td>5.0</td>\n",
              "      <td>6.0</td>\n",
              "      <td>1.0</td>\n",
              "      <td>1.0</td>\n",
              "      <td>1.0</td>\n",
              "      <td>NaN</td>\n",
              "      <td>1.0</td>\n",
              "      <td>6.0</td>\n",
              "      <td>1</td>\n",
              "      <td>6.0</td>\n",
              "      <td>6.0</td>\n",
              "      <td>1.0</td>\n",
              "    </tr>\n",
              "    <tr>\n",
              "      <th>2796</th>\n",
              "      <td>2.0</td>\n",
              "      <td>4.0</td>\n",
              "      <td>4.0</td>\n",
              "      <td>3.0</td>\n",
              "      <td>5.0</td>\n",
              "      <td>2.0</td>\n",
              "      <td>3.0</td>\n",
              "      <td>4.0</td>\n",
              "      <td>4.0</td>\n",
              "      <td>3.0</td>\n",
              "      <td>2.0</td>\n",
              "      <td>2.0</td>\n",
              "      <td>4.0</td>\n",
              "      <td>4.0</td>\n",
              "      <td>3.0</td>\n",
              "      <td>NaN</td>\n",
              "      <td>3.0</td>\n",
              "      <td>2.0</td>\n",
              "      <td>3.0</td>\n",
              "      <td>3.0</td>\n",
              "      <td>6.0</td>\n",
              "      <td>3</td>\n",
              "      <td>5.0</td>\n",
              "      <td>4.0</td>\n",
              "      <td>2.0</td>\n",
              "    </tr>\n",
              "    <tr>\n",
              "      <th>2797</th>\n",
              "      <td>2.0</td>\n",
              "      <td>3.0</td>\n",
              "      <td>5.0</td>\n",
              "      <td>2.0</td>\n",
              "      <td>5.0</td>\n",
              "      <td>5.0</td>\n",
              "      <td>5.0</td>\n",
              "      <td>5.0</td>\n",
              "      <td>1.0</td>\n",
              "      <td>1.0</td>\n",
              "      <td>2.0</td>\n",
              "      <td>2.0</td>\n",
              "      <td>6.0</td>\n",
              "      <td>3.0</td>\n",
              "      <td>6.0</td>\n",
              "      <td>3.0</td>\n",
              "      <td>4.0</td>\n",
              "      <td>3.0</td>\n",
              "      <td>3.0</td>\n",
              "      <td>1.0</td>\n",
              "      <td>5.0</td>\n",
              "      <td>1</td>\n",
              "      <td>6.0</td>\n",
              "      <td>4.0</td>\n",
              "      <td>3.0</td>\n",
              "    </tr>\n",
              "    <tr>\n",
              "      <th>2798</th>\n",
              "      <td>5.0</td>\n",
              "      <td>2.0</td>\n",
              "      <td>2.0</td>\n",
              "      <td>4.0</td>\n",
              "      <td>4.0</td>\n",
              "      <td>5.0</td>\n",
              "      <td>5.0</td>\n",
              "      <td>5.0</td>\n",
              "      <td>2.0</td>\n",
              "      <td>6.0</td>\n",
              "      <td>2.0</td>\n",
              "      <td>2.0</td>\n",
              "      <td>4.0</td>\n",
              "      <td>5.0</td>\n",
              "      <td>4.0</td>\n",
              "      <td>5.0</td>\n",
              "      <td>5.0</td>\n",
              "      <td>6.0</td>\n",
              "      <td>4.0</td>\n",
              "      <td>1.0</td>\n",
              "      <td>5.0</td>\n",
              "      <td>2</td>\n",
              "      <td>5.0</td>\n",
              "      <td>5.0</td>\n",
              "      <td>1.0</td>\n",
              "    </tr>\n",
              "    <tr>\n",
              "      <th>2799</th>\n",
              "      <td>2.0</td>\n",
              "      <td>3.0</td>\n",
              "      <td>1.0</td>\n",
              "      <td>4.0</td>\n",
              "      <td>2.0</td>\n",
              "      <td>5.0</td>\n",
              "      <td>5.0</td>\n",
              "      <td>3.0</td>\n",
              "      <td>3.0</td>\n",
              "      <td>3.0</td>\n",
              "      <td>3.0</td>\n",
              "      <td>3.0</td>\n",
              "      <td>1.0</td>\n",
              "      <td>2.0</td>\n",
              "      <td>2.0</td>\n",
              "      <td>1.0</td>\n",
              "      <td>2.0</td>\n",
              "      <td>2.0</td>\n",
              "      <td>1.0</td>\n",
              "      <td>1.0</td>\n",
              "      <td>3.0</td>\n",
              "      <td>1</td>\n",
              "      <td>3.0</td>\n",
              "      <td>5.0</td>\n",
              "      <td>1.0</td>\n",
              "    </tr>\n",
              "  </tbody>\n",
              "</table>\n",
              "<p>2800 rows × 25 columns</p>\n",
              "</div>"
            ],
            "text/plain": [
              "       A1   A2   A3   A4   A5   C1   C2  ...   N4   N5   O1  O2   O3   O4   O5\n",
              "0     2.0  4.0  3.0  4.0  4.0  2.0  3.0  ...  2.0  3.0  3.0   6  3.0  4.0  3.0\n",
              "1     2.0  4.0  5.0  2.0  5.0  5.0  4.0  ...  5.0  5.0  4.0   2  4.0  3.0  3.0\n",
              "2     5.0  4.0  5.0  4.0  4.0  4.0  5.0  ...  2.0  3.0  4.0   2  5.0  5.0  2.0\n",
              "3     4.0  4.0  6.0  5.0  5.0  4.0  4.0  ...  4.0  1.0  3.0   3  4.0  3.0  5.0\n",
              "4     2.0  3.0  3.0  4.0  5.0  4.0  4.0  ...  4.0  3.0  3.0   3  4.0  3.0  3.0\n",
              "...   ...  ...  ...  ...  ...  ...  ...  ...  ...  ...  ...  ..  ...  ...  ...\n",
              "2795  6.0  1.0  3.0  3.0  3.0  6.0  6.0  ...  NaN  1.0  6.0   1  6.0  6.0  1.0\n",
              "2796  2.0  4.0  4.0  3.0  5.0  2.0  3.0  ...  3.0  3.0  6.0   3  5.0  4.0  2.0\n",
              "2797  2.0  3.0  5.0  2.0  5.0  5.0  5.0  ...  3.0  1.0  5.0   1  6.0  4.0  3.0\n",
              "2798  5.0  2.0  2.0  4.0  4.0  5.0  5.0  ...  4.0  1.0  5.0   2  5.0  5.0  1.0\n",
              "2799  2.0  3.0  1.0  4.0  2.0  5.0  5.0  ...  1.0  1.0  3.0   1  3.0  5.0  1.0\n",
              "\n",
              "[2800 rows x 25 columns]"
            ]
          },
          "metadata": {
            "tags": []
          },
          "execution_count": 34
        }
      ]
    },
    {
      "cell_type": "markdown",
      "metadata": {
        "id": "yjDq9tApyhIr"
      },
      "source": [
        "30 มีนาคม 2564"
      ]
    },
    {
      "cell_type": "code",
      "metadata": {
        "id": "7O2oFepRxzZp",
        "colab": {
          "base_uri": "https://localhost:8080/"
        },
        "outputId": "e6a6c96d-45bc-4122-cb9f-126e299607d6"
      },
      "source": [
        "BFI_data_dropped = BFI_data_dropped.dropna()\n",
        "BFI_data_dropped.shape"
      ],
      "execution_count": 35,
      "outputs": [
        {
          "output_type": "execute_result",
          "data": {
            "text/plain": [
              "(2436, 25)"
            ]
          },
          "metadata": {
            "tags": []
          },
          "execution_count": 35
        }
      ]
    },
    {
      "cell_type": "code",
      "metadata": {
        "id": "qs3GfaVgygkk",
        "colab": {
          "base_uri": "https://localhost:8080/"
        },
        "outputId": "9c7102a2-0ac7-4966-ebb6-3dda4d92e655"
      },
      "source": [
        "from factor_analyzer.factor_analyzer import calculate_bartlett_sphericity\n",
        "chi_square_value,p_value=calculate_bartlett_sphericity(BFI_data_dropped)\n",
        "chi_square_value, p_value"
      ],
      "execution_count": 36,
      "outputs": [
        {
          "output_type": "execute_result",
          "data": {
            "text/plain": [
              "(18170.966350869243, 0.0)"
            ]
          },
          "metadata": {
            "tags": []
          },
          "execution_count": 36
        }
      ]
    },
    {
      "cell_type": "markdown",
      "metadata": {
        "id": "uMJfLOLEyolr"
      },
      "source": [
        "In this Bartlett ’s test, the p-value is 0. The test was statistically significant, indicating that the observed correlation matrix is not an identity matrix."
      ]
    },
    {
      "cell_type": "markdown",
      "metadata": {
        "id": "kxJH4tssysSk"
      },
      "source": [
        "## **Kaiser-Meyer-Olkin (KMO) Test**\n",
        "\n",
        "ถ้าค่า KMO model มีค่ามากกว่า 0.6 แปลว่าข้อมูลเหมาะสมที่จะนำไปใช้ใน Factor Analysis"
      ]
    },
    {
      "cell_type": "code",
      "metadata": {
        "id": "_uYAlBueymJY",
        "colab": {
          "base_uri": "https://localhost:8080/"
        },
        "outputId": "3ce1a988-339a-4302-d1a9-f73f8dff0732"
      },
      "source": [
        "from factor_analyzer.factor_analyzer import calculate_kmo\n",
        "kmo_all,kmo_model=calculate_kmo(BFI_data_dropped)\n",
        "kmo_model"
      ],
      "execution_count": 37,
      "outputs": [
        {
          "output_type": "execute_result",
          "data": {
            "text/plain": [
              "0.8485397221949221"
            ]
          },
          "metadata": {
            "tags": []
          },
          "execution_count": 37
        }
      ]
    },
    {
      "cell_type": "markdown",
      "metadata": {
        "id": "D7HgMVdtywUz"
      },
      "source": [
        "##Factor Analysis"
      ]
    },
    {
      "cell_type": "markdown",
      "metadata": {
        "id": "WOaZmhHuyyiF"
      },
      "source": [
        "## Import"
      ]
    },
    {
      "cell_type": "code",
      "metadata": {
        "id": "exWygwGayugg"
      },
      "source": [
        "from factor_analyzer import FactorAnalyzer"
      ],
      "execution_count": 38,
      "outputs": []
    },
    {
      "cell_type": "markdown",
      "metadata": {
        "id": "r2LHeAbny2vk"
      },
      "source": [
        "### Define"
      ]
    },
    {
      "cell_type": "code",
      "metadata": {
        "id": "ECN2R7HPy1Br"
      },
      "source": [
        "fa = FactorAnalyzer(n_factors=20)"
      ],
      "execution_count": 39,
      "outputs": []
    },
    {
      "cell_type": "markdown",
      "metadata": {
        "id": "azdq-EsIy7t7"
      },
      "source": [
        "\n",
        "\n",
        "```\n",
        "# มีการจัดรูปแบบเป็นโค้ด\n",
        "```\n",
        "\n",
        "## Fit-transform"
      ]
    },
    {
      "cell_type": "code",
      "metadata": {
        "id": "Chlpni4oy47v"
      },
      "source": [
        "data_fa = fa.fit_transform(BFI_data_dropped)"
      ],
      "execution_count": 40,
      "outputs": []
    },
    {
      "cell_type": "code",
      "metadata": {
        "id": "4MtvVJG6zAAX",
        "colab": {
          "base_uri": "https://localhost:8080/"
        },
        "outputId": "177d9577-6363-43f1-c830-31d59063335c"
      },
      "source": [
        "data_fa.shape"
      ],
      "execution_count": 41,
      "outputs": [
        {
          "output_type": "execute_result",
          "data": {
            "text/plain": [
              "(2436, 20)"
            ]
          },
          "metadata": {
            "tags": []
          },
          "execution_count": 41
        }
      ]
    },
    {
      "cell_type": "markdown",
      "metadata": {
        "id": "Js-996VfzEEr"
      },
      "source": [
        "วิธีตัดสินว่าจะลดเหลือกี่ dimension ( มี factors ทั้งหมดกี่ตัว )"
      ]
    },
    {
      "cell_type": "code",
      "metadata": {
        "id": "ialc7cODzBXJ"
      },
      "source": [
        "ev,v = fa.get_eigenvalues()"
      ],
      "execution_count": 42,
      "outputs": []
    },
    {
      "cell_type": "markdown",
      "metadata": {
        "id": "Vi6y4Lb_zIey"
      },
      "source": [
        "### ใช้ eigen values "
      ]
    },
    {
      "cell_type": "code",
      "metadata": {
        "id": "xUE0aB6QzGZG",
        "colab": {
          "base_uri": "https://localhost:8080/"
        },
        "outputId": "21b2e3dc-8c03-424b-cb44-69e9073d6510"
      },
      "source": [
        "ev"
      ],
      "execution_count": 43,
      "outputs": [
        {
          "output_type": "execute_result",
          "data": {
            "text/plain": [
              "array([5.13431118, 2.75188667, 2.14270195, 1.85232761, 1.54816285,\n",
              "       1.07358247, 0.83953893, 0.79920618, 0.71898919, 0.68808879,\n",
              "       0.67637336, 0.65179984, 0.62325295, 0.59656284, 0.56309083,\n",
              "       0.54330533, 0.51451752, 0.49450315, 0.48263952, 0.448921  ,\n",
              "       0.42336611, 0.40067145, 0.38780448, 0.38185679, 0.26253902])"
            ]
          },
          "metadata": {
            "tags": []
          },
          "execution_count": 43
        }
      ]
    },
    {
      "cell_type": "markdown",
      "metadata": {
        "id": "IruNURQXzM5E"
      },
      "source": [
        "Scree plot"
      ]
    },
    {
      "cell_type": "code",
      "metadata": {
        "id": "3cYbsppEzLd9",
        "colab": {
          "base_uri": "https://localhost:8080/",
          "height": 893
        },
        "outputId": "29d6ad09-6fde-4c0d-ab60-85ecd6affb4a"
      },
      "source": [
        "# Create scree plot using matplotlib\n",
        "plt.scatter(range(1,BFI_data_dropped.shape[1]+1),ev)\n",
        "plt.plot(range(1,BFI_data_dropped.shape[1]+1),ev)\n",
        "plt.title('Scree Plot')\n",
        "plt.xlabel('Factors')\n",
        "plt.ylabel('Eigenvalue')\n",
        "plt.grid()\n",
        "plt.show()"
      ],
      "execution_count": 44,
      "outputs": [
        {
          "output_type": "display_data",
          "data": {
            "image/png": "[encoded data removed]",
            "text/plain": [
              "<Figure size 1080x1080 with 1 Axes>"
            ]
          },
          "metadata": {
            "tags": [],
            "needs_background": "light"
          }
        }
      ]
    },
    {
      "cell_type": "code",
      "metadata": {
        "id": "iqGFItE2zOe1",
        "colab": {
          "base_uri": "https://localhost:8080/",
          "height": 893
        },
        "outputId": "fc700706-7b8f-46b1-a30d-d8c48af0bc61"
      },
      "source": [
        "# Create scree plot using matplotlib\n",
        "plt.plot(range(1,BFI_data_dropped.shape[1]+1),ev,'bo-')\n",
        "plt.plot([0,BFI_data_dropped.shape[1]+1],[1,1],'r--')\n",
        "plt.title('Scree Plot')\n",
        "plt.xlabel('Factors')\n",
        "plt.ylabel('Eigenvalue')\n",
        "plt.grid()\n",
        "plt.show()"
      ],
      "execution_count": 45,
      "outputs": [
        {
          "output_type": "display_data",
          "data": {
            "image/png": "[encoded data removed]",
            "text/plain": [
              "<Figure size 1080x1080 with 1 Axes>"
            ]
          },
          "metadata": {
            "tags": [],
            "needs_background": "light"
          }
        }
      ]
    },
    {
      "cell_type": "code",
      "metadata": {
        "id": "MDN-4KaszQML",
        "colab": {
          "base_uri": "https://localhost:8080/"
        },
        "outputId": "5f9f014e-def6-4422-cb6f-b2791aa14c48"
      },
      "source": [
        "data_fa[:,:6]"
      ],
      "execution_count": 46,
      "outputs": [
        {
          "output_type": "execute_result",
          "data": {
            "text/plain": [
              "array([[-0.89749661, -0.12809666, -1.22649076,  1.08665889,  0.42476701,\n",
              "         0.03981611],\n",
              "       [ 0.33679356, -0.15018138, -0.04332274, -0.10339328,  0.29665648,\n",
              "        -1.11019718],\n",
              "       [-0.24521029,  0.80409961,  0.39343377, -0.30106518,  0.82703928,\n",
              "        -0.2982022 ],\n",
              "       ...,\n",
              "       [ 0.38724631, -0.02183587,  1.19616826, -1.19357208,  0.79669501,\n",
              "        -0.95295109],\n",
              "       [-0.75695976,  0.94984758,  1.24363484, -1.15230215,  2.2534133 ,\n",
              "        -1.0218667 ],\n",
              "       [-2.35583952, -1.49829856,  0.49436981, -1.64734311,  0.94742323,\n",
              "         0.43462495]])"
            ]
          },
          "metadata": {
            "tags": []
          },
          "execution_count": 46
        }
      ]
    },
    {
      "cell_type": "markdown",
      "metadata": {
        "id": "-9sWCmKJzTTK"
      },
      "source": [
        "### Factor loading"
      ]
    },
    {
      "cell_type": "code",
      "metadata": {
        "id": "yv7kn2uxzRsT",
        "colab": {
          "base_uri": "https://localhost:8080/"
        },
        "outputId": "facb05c2-e7b5-4b2d-c9f4-fbb59bf79633"
      },
      "source": [
        "fa.loadings_.shape"
      ],
      "execution_count": 47,
      "outputs": [
        {
          "output_type": "execute_result",
          "data": {
            "text/plain": [
              "(25, 20)"
            ]
          },
          "metadata": {
            "tags": []
          },
          "execution_count": 47
        }
      ]
    },
    {
      "cell_type": "code",
      "metadata": {
        "id": "WNuJ2d7GzVnd",
        "colab": {
          "base_uri": "https://localhost:8080/"
        },
        "outputId": "29a4e437-3555-4f09-a039-1b41717556ab"
      },
      "source": [
        "fa.loadings_"
      ],
      "execution_count": 48,
      "outputs": [
        {
          "output_type": "execute_result",
          "data": {
            "text/plain": [
              "array([[ 4.39221644e-02, -7.23791989e-03, -3.54953863e-02,\n",
              "         6.36904232e-02,  1.86674726e-02,  7.56067826e-01,\n",
              "         3.79571050e-02,  6.18021132e-02, -1.21231838e-03,\n",
              "         4.98167814e-02, -2.38173505e-02,  4.66514142e-02,\n",
              "         4.62005355e-02,  3.02085508e-02, -1.17663825e-01,\n",
              "         1.13469789e-02, -6.77496110e-03, -4.75707513e-02,\n",
              "         3.80305889e-02, -1.32410506e-05],\n",
              "       [-3.61660798e-02, -7.05831938e-02,  2.60349595e-02,\n",
              "         3.14887147e-02,  1.39800152e-02, -3.53463277e-01,\n",
              "         4.64083497e-02,  8.38715235e-02,  9.55513114e-02,\n",
              "         8.65737514e-02,  5.62178309e-02,  9.13535039e-02,\n",
              "         3.71647110e-02,  5.18919280e-02, -6.40070765e-02,\n",
              "         2.44624623e-02, -5.05741873e-02, -7.11741066e-02,\n",
              "         3.32392439e-02, -1.03131820e-01],\n",
              "       [ 1.25240910e-01,  6.35958266e-02,  5.74261728e-01,\n",
              "         5.81639394e-02,  4.81248438e-02, -2.30739166e-01,\n",
              "         2.24828463e-02,  4.31813917e-02, -1.31675268e-01,\n",
              "         9.04356027e-02, -8.58365401e-02, -1.05676028e-03,\n",
              "         5.17142791e-02, -9.17643061e-02, -1.23642611e-01,\n",
              "        -1.52886601e-04,  1.25851617e-02,  6.36721639e-04,\n",
              "         9.65768702e-02,  2.56825369e-02],\n",
              "       [-6.98978238e-03,  2.50855387e-02,  1.00524066e-01,\n",
              "        -3.28862347e-02, -2.00133306e-02,  3.02942021e-02,\n",
              "        -5.85016452e-02, -4.59056406e-02,  7.85635765e-03,\n",
              "         7.14037611e-01, -3.01074013e-02, -4.69316124e-02,\n",
              "        -1.25894032e-02,  3.48879948e-02,  5.28996131e-02,\n",
              "        -1.64187010e-02,  1.68011775e-02, -4.37964224e-03,\n",
              "        -6.40957978e-02,  2.54545472e-02],\n",
              "       [-8.18890698e-02, -4.54625132e-02,  7.60359671e-01,\n",
              "         4.35972070e-02, -7.11734560e-02,  4.42803915e-02,\n",
              "         8.86624767e-02, -6.14075740e-02,  8.73155923e-02,\n",
              "         1.06703907e-02,  8.07940440e-02,  6.65554053e-02,\n",
              "        -7.81796806e-02,  1.34931462e-01,  2.05073663e-02,\n",
              "        -8.44588038e-03, -2.92520758e-02, -5.38830935e-02,\n",
              "        -1.77020859e-02,  3.44251985e-04],\n",
              "       [-2.16375290e-02,  6.55315913e-01,  1.95964985e-02,\n",
              "        -1.44521857e-02, -1.79331409e-02,  5.12600502e-02,\n",
              "        -1.48806751e-02, -2.28630264e-02,  3.36999970e-02,\n",
              "        -8.15895312e-02,  1.64943131e-02, -2.08031265e-02,\n",
              "        -5.80083971e-03,  2.54676775e-02,  5.53527154e-02,\n",
              "        -2.93812480e-02, -1.60865154e-03,  1.54398345e-03,\n",
              "         5.76283979e-01,  6.75406707e-03],\n",
              "       [-3.49435018e-03,  7.59424189e-01, -5.08226227e-02,\n",
              "         6.67106426e-02,  1.57776029e-02, -5.26611122e-02,\n",
              "         9.26390394e-02,  9.07597280e-02,  3.29792181e-02,\n",
              "         1.47787155e-01,  5.43056218e-02,  8.47547762e-02,\n",
              "         2.61492786e-02,  8.43205709e-03, -9.05947755e-02,\n",
              "         1.48707518e-02, -3.03218924e-02, -2.51122709e-02,\n",
              "        -3.51764932e-02, -3.45460963e-02],\n",
              "       [ 1.21509019e-03,  2.87377352e-01,  3.25234509e-02,\n",
              "        -5.59118342e-02,  5.33950263e-03,  4.07183926e-02,\n",
              "        -7.87687720e-02, -2.90562728e-02, -2.90386633e-02,\n",
              "        -5.24737507e-02, -2.92997663e-02,  7.01037448e-01,\n",
              "        -8.67677510e-03, -4.06777304e-02,  5.81500971e-02,\n",
              "         3.16354942e-03,  2.00855731e-02,  3.43530427e-02,\n",
              "        -2.13662326e-02,  8.74505142e-03],\n",
              "       [-9.47716578e-04, -3.12340175e-01, -1.83514861e-02,\n",
              "         5.17829397e-02, -4.68914226e-03,  1.37862700e-03,\n",
              "         1.71033980e-01,  5.23107440e-02,  1.91337157e-02,\n",
              "         3.29302629e-02,  6.44092330e-02,  3.33429590e-02,\n",
              "         3.87734994e-04, -3.07113025e-03,  3.60625984e-03,\n",
              "        -4.72409619e-02,  6.18864799e-01,  3.05930620e-05,\n",
              "         2.27780829e-02, -7.52637975e-03],\n",
              "       [-6.36247005e-03, -1.97116268e-02,  4.46499142e-02,\n",
              "        -1.24221679e-01,  3.00345914e-02,  3.96032424e-02,\n",
              "         7.82832813e-01,  6.97787302e-03, -1.53528053e-02,\n",
              "        -7.07464516e-02, -1.04885122e-01, -7.30258505e-02,\n",
              "         1.46015215e-02, -1.23829544e-02,  1.76741038e-02,\n",
              "         9.47155775e-02,  5.70486985e-02,  1.72632791e-02,\n",
              "        -1.76228252e-02, -1.41526536e-03],\n",
              "       [-2.09791043e-02,  2.20292208e-02,  3.76800865e-02,\n",
              "         8.18110730e-01,  2.35879788e-02,  4.68850118e-02,\n",
              "        -1.59591916e-01,  2.26039579e-03, -7.24420803e-03,\n",
              "        -5.70347835e-02, -8.77704264e-02, -6.15404827e-02,\n",
              "         5.79800247e-03,  6.27101106e-03,  2.08112336e-02,\n",
              "         9.17440159e-02,  5.20888967e-02,  1.58236432e-02,\n",
              "        -1.52980285e-02, -2.00171807e-03],\n",
              "       [-2.78505651e-03, -1.07877718e-02, -6.95865415e-03,\n",
              "         4.30566340e-01,  1.21442438e-02,  9.37127806e-02,\n",
              "         9.06486533e-02, -2.13392757e-02, -4.38302898e-02,\n",
              "         7.24132730e-02,  1.26807729e-01, -2.03246150e-02,\n",
              "        -1.86671352e-02, -1.91739426e-01,  1.38850632e-01,\n",
              "        -1.02216622e-01, -5.02405792e-02,  1.14458346e-01,\n",
              "         1.08865582e-02, -1.02712644e-01],\n",
              "       [-1.32434244e-02, -3.81543627e-02,  3.62041675e-01,\n",
              "        -1.17062656e-01,  5.84173192e-02,  5.77627878e-02,\n",
              "        -1.16307477e-01,  1.46296858e-01,  8.03129773e-02,\n",
              "        -7.11090358e-02, -1.93851043e-02, -3.68781469e-02,\n",
              "         1.21933891e-01, -4.29404731e-02,  5.17436677e-03,\n",
              "         2.90838831e-02,  1.53780188e-02,  2.28930801e-02,\n",
              "        -6.71245142e-02, -1.58039802e-01],\n",
              "       [ 3.52715337e-02,  1.76712336e-02,  2.17469289e-01,\n",
              "        -2.77717441e-01,  5.72162078e-02,  4.60041947e-02,\n",
              "        -1.36996473e-02,  2.86223197e-02, -7.87100335e-02,\n",
              "         5.65534847e-02,  2.56899067e-02, -5.60859463e-02,\n",
              "         3.34557189e-02,  6.02174208e-01,  7.92781378e-02,\n",
              "        -3.77343676e-02, -3.37682807e-03,  1.15185928e-01,\n",
              "         2.54992107e-02, -2.35513064e-02],\n",
              "       [ 4.14859717e-02,  5.73363151e-02,  2.16302929e-02,\n",
              "        -4.24945858e-02,  1.18521641e-02, -2.90636946e-02,\n",
              "        -1.31045174e-02, -2.00917193e-02,  7.65426359e-01,\n",
              "         1.18788332e-02, -3.53405838e-02, -3.13386351e-02,\n",
              "        -3.75042064e-03, -6.54093831e-02,  7.54996732e-03,\n",
              "        -7.10735926e-03,  1.20831543e-02,  2.90421205e-02,\n",
              "         2.76652405e-02,  1.55204720e-02],\n",
              "       [ 8.89358146e-01, -6.79741809e-02,  4.74746775e-03,\n",
              "        -5.91071181e-02,  5.13299672e-02,  8.83995684e-02,\n",
              "        -2.85287065e-02,  9.75738324e-02,  6.16213714e-02,\n",
              "         7.94422336e-02,  6.11756772e-02,  1.36277881e-02,\n",
              "         4.96871654e-02, -7.57162442e-02,  2.28930610e-02,\n",
              "         3.68633011e-02, -1.15436899e-02,  5.15119497e-02,\n",
              "         6.24855018e-03,  3.68195335e-01],\n",
              "       [ 9.57872493e-01,  3.37265282e-02,  1.49659085e-03,\n",
              "         6.14940513e-02, -5.50211764e-02, -5.08406545e-02,\n",
              "         2.50979303e-02, -7.07445164e-02,  7.98758253e-03,\n",
              "        -1.43988250e-01, -3.20653865e-02, -7.78114229e-03,\n",
              "        -2.27568680e-02,  1.19671489e-01, -9.22916851e-03,\n",
              "        -9.87411600e-02,  4.75270567e-04, -6.94676317e-02,\n",
              "        -6.64271931e-02,  1.83166624e-03],\n",
              "       [ 5.54238758e-01,  1.22367879e-02,  9.77605264e-04,\n",
              "        -7.40264226e-02, -3.13975792e-02,  7.24444631e-02,\n",
              "        -3.51335636e-02, -8.66642157e-02, -2.55808006e-02,\n",
              "         8.90428446e-02,  1.33638400e-03, -2.30668994e-03,\n",
              "        -1.08985136e-01,  2.64914867e-03,  5.90802387e-02,\n",
              "         3.80375790e-01,  2.16982463e-02,  2.46461400e-02,\n",
              "         6.39308361e-02, -9.07771429e-02],\n",
              "       [ 2.40347496e-01, -5.56844214e-03, -4.17676439e-03,\n",
              "         1.33749668e-01, -1.53812818e-02, -2.06667695e-02,\n",
              "         1.55992468e-01, -4.68921930e-03,  1.71641023e-03,\n",
              "        -7.06919438e-02,  1.06423130e-01,  5.98029876e-03,\n",
              "         3.42393815e-02, -3.44801621e-02,  4.51642635e-02,\n",
              "         4.53693461e-01, -5.41053703e-02,  1.17476185e-02,\n",
              "        -6.52062156e-02,  2.60689253e-02],\n",
              "       [ 1.39843032e-01,  3.56453434e-02,  1.27584945e-02,\n",
              "        -4.32361364e-02,  2.46987488e-02, -5.12222336e-02,\n",
              "        -1.03044213e-01,  1.52446038e-02, -3.22379074e-02,\n",
              "        -3.58776740e-02,  7.23865464e-01, -3.10013799e-02,\n",
              "         2.28725842e-02,  1.95289439e-02, -5.78053793e-02,\n",
              "         6.85410150e-02,  4.15921161e-02, -2.26483349e-02,\n",
              "         1.08975205e-02,  1.53455465e-02],\n",
              "       [-3.17507191e-02,  1.24227127e-02,  1.57016208e-02,\n",
              "        -9.20629574e-03, -1.55680018e-01,  4.43135699e-02,\n",
              "         1.61904390e-02, -7.61591483e-02,  2.57622634e-02,\n",
              "        -1.07269118e-02,  1.99292695e-02, -6.52527734e-03,\n",
              "         6.64977695e-01,  2.31666474e-02,  8.26116494e-02,\n",
              "        -7.29413170e-03, -7.80042469e-04,  5.70465301e-03,\n",
              "        -4.37271201e-03,  1.23554230e-02],\n",
              "       [-2.91003400e-02,  1.72014474e-02,  1.88523515e-02,\n",
              "        -2.17713047e-02,  6.87267690e-01,  7.29973827e-02,\n",
              "         1.46966709e-02, -8.82286616e-02, -1.74945751e-02,\n",
              "        -2.86311032e-02,  3.46433587e-02, -2.84993271e-02,\n",
              "        -6.80876363e-02, -1.66975289e-02,  1.04455933e-01,\n",
              "        -3.33285517e-02, -3.62631970e-03, -3.59818111e-02,\n",
              "        -1.92970660e-02,  1.26718602e-02],\n",
              "       [-2.66556720e-02,  3.17768879e-02,  4.35594358e-02,\n",
              "        -2.03333942e-02, -2.60466403e-01,  5.35900867e-02,\n",
              "         7.68345634e-03,  7.97094482e-01, -1.89015332e-02,\n",
              "        -5.01553309e-02,  1.07440912e-02, -2.86856652e-02,\n",
              "        -8.24759503e-02,  2.20498239e-02,  9.76582844e-02,\n",
              "        -2.44809331e-02,  4.19362123e-03,  1.20384786e-02,\n",
              "        -2.06570287e-02,  2.81057230e-02],\n",
              "       [ 4.04060335e-02, -9.76128968e-03, -3.28131242e-02,\n",
              "         5.17835888e-02,  1.68219144e-02, -1.08278967e-01,\n",
              "         1.21334012e-02,  7.36685292e-02,  7.49204371e-03,\n",
              "         4.57215248e-02, -4.11064687e-02,  4.56119260e-02,\n",
              "         5.32208741e-02,  4.33965664e-02,  5.86563676e-01,\n",
              "         3.52900991e-02,  1.75776051e-03, -5.52685295e-02,\n",
              "         3.72001079e-02, -2.52344376e-03],\n",
              "       [ 7.83045370e-04, -9.30635527e-03, -2.41043136e-02,\n",
              "         4.38461792e-02,  5.11337889e-01, -5.43308359e-02,\n",
              "         2.20065807e-02,  7.93118256e-03,  3.11246941e-02,\n",
              "        -6.53374230e-03, -1.62806692e-02,  3.88643290e-02,\n",
              "         1.40406942e-03,  9.32180242e-02, -7.59678119e-02,\n",
              "         1.55890618e-02, -2.00235483e-03,  5.66451978e-01,\n",
              "         1.45544115e-03,  1.07126261e-02]])"
            ]
          },
          "metadata": {
            "tags": []
          },
          "execution_count": 48
        }
      ]
    },
    {
      "cell_type": "markdown",
      "metadata": {
        "id": "21ODndFD-jDl"
      },
      "source": [
        "#### Plot factor loadings"
      ]
    },
    {
      "cell_type": "code",
      "metadata": {
        "id": "rT-FHFM0zXCk"
      },
      "source": [
        "from factor_analyzer import FactorAnalyzer\n",
        "fa2 = FactorAnalyzer(n_factors=6)\n",
        "data_fa = fa2.fit_transform(BFI_data_dropped)"
      ],
      "execution_count": 54,
      "outputs": []
    },
    {
      "cell_type": "code",
      "metadata": {
        "id": "oU1gT6UXV2uG",
        "outputId": "ae71cc50-0d04-4566-e637-0e98e645ec39",
        "colab": {
          "base_uri": "https://localhost:8080/"
        }
      },
      "source": [
        "fa2.loadings_.shape"
      ],
      "execution_count": 55,
      "outputs": [
        {
          "output_type": "execute_result",
          "data": {
            "text/plain": [
              "(25, 6)"
            ]
          },
          "metadata": {
            "tags": []
          },
          "execution_count": 55
        }
      ]
    },
    {
      "cell_type": "markdown",
      "metadata": {
        "id": "kvKBtcr-V6Yl"
      },
      "source": [
        "##plot factor loading"
      ]
    },
    {
      "cell_type": "code",
      "metadata": {
        "id": "A3YzrD7UWCxt"
      },
      "source": [
        "from matplotlib import pyplot as plt\n",
        "import numpy as np\n",
        "import matplotlib"
      ],
      "execution_count": 58,
      "outputs": []
    },
    {
      "cell_type": "code",
      "metadata": {
        "id": "c9lfPXGZWIfF",
        "outputId": "effaef34-3765-4159-9e12-2746218ce184",
        "colab": {
          "base_uri": "https://localhost:8080/",
          "height": 881
        }
      },
      "source": [
        "matplotlib.rcParams['figure.figsize']=[15,15]\n",
        "plt.imshow(np.absolute(fa2.loadings_))"
      ],
      "execution_count": 59,
      "outputs": [
        {
          "output_type": "execute_result",
          "data": {
            "text/plain": [
              "<matplotlib.image.AxesImage at 0x7fdd5dc367d0>"
            ]
          },
          "metadata": {
            "tags": []
          },
          "execution_count": 59
        },
        {
          "output_type": "display_data",
          "data": {
            "image/png": "[encoded data removed]",
            "text/plain": [
              "<Figure size 1080x1080 with 1 Axes>"
            ]
          },
          "metadata": {
            "tags": [],
            "needs_background": "light"
          }
        }
      ]
    },
    {
      "cell_type": "code",
      "metadata": {
        "id": "W2WlkvWzWLhd",
        "outputId": "aad4b3aa-2e95-4ff7-decc-21bdf1321292",
        "colab": {
          "base_uri": "https://localhost:8080/"
        }
      },
      "source": [
        "BFI_data_dropped.columns"
      ],
      "execution_count": 60,
      "outputs": [
        {
          "output_type": "execute_result",
          "data": {
            "text/plain": [
              "Index(['A1', 'A2', 'A3', 'A4', 'A5', 'C1', 'C2', 'C3', 'C4', 'C5', 'E1', 'E2',\n",
              "       'E3', 'E4', 'E5', 'N1', 'N2', 'N3', 'N4', 'N5', 'O1', 'O2', 'O3', 'O4',\n",
              "       'O5'],\n",
              "      dtype='object')"
            ]
          },
          "metadata": {
            "tags": []
          },
          "execution_count": 60
        }
      ]
    },
    {
      "cell_type": "code",
      "metadata": {
        "id": "qi9b6dlhWNLu",
        "outputId": "051b8b3e-5555-4d94-e296-d3eb68b52f8c",
        "colab": {
          "base_uri": "https://localhost:8080/",
          "height": 881
        }
      },
      "source": [
        "\n",
        "plt.bar(range(25),np.absolute(fa2.loadings_[:,0]),tick_label=BFI_data_dropped.columns)"
      ],
      "execution_count": 61,
      "outputs": [
        {
          "output_type": "execute_result",
          "data": {
            "text/plain": [
              "<BarContainer object of 25 artists>"
            ]
          },
          "metadata": {
            "tags": []
          },
          "execution_count": 61
        },
        {
          "output_type": "display_data",
          "data": {
            "image/png": "[encoded data removed]",
            "text/plain": [
              "<Figure size 1080x1080 with 1 Axes>"
            ]
          },
          "metadata": {
            "tags": [],
            "needs_background": "light"
          }
        }
      ]
    },
    {
      "cell_type": "markdown",
      "metadata": {
        "id": "tOp_PqRf_LK2"
      },
      "source": [
        "# **Exam** 3\n",
        "\n",
        "ทำ Factor Analysis ข้อมูล Fifa 2018 \n",
        "https://drive.google.com/file/d/1UORRKWMb8GCN455eJE_n9MvBHupnSVwv/view?usp=sharing"
      ]
    },
    {
      "cell_type": "markdown",
      "metadata": {
        "id": "FGTx_CX5Ym9G"
      },
      "source": [
        "###**1**. **นำข้อมูลเข้า**"
      ]
    },
    {
      "cell_type": "code",
      "metadata": {
        "id": "JOUiDqCn_FMI",
        "outputId": "4f61b044-1c3b-4171-ec19-3c9a121cd7fb",
        "colab": {
          "base_uri": "https://localhost:8080/",
          "height": 817
        }
      },
      "source": [
        "sph = pd.read_csv('/content/FIFA 2018 Statistics.csv')\n",
        "sph"
      ],
      "execution_count": 75,
      "outputs": [
        {
          "output_type": "execute_result",
          "data": {
            "text/html": [
              "<div>\n",
              "<style scoped>\n",
              "    .dataframe tbody tr th:only-of-type {\n",
              "        vertical-align: middle;\n",
              "    }\n",
              "\n",
              "    .dataframe tbody tr th {\n",
              "        vertical-align: top;\n",
              "    }\n",
              "\n",
              "    .dataframe thead th {\n",
              "        text-align: right;\n",
              "    }\n",
              "</style>\n",
              "<table border=\"1\" class=\"dataframe\">\n",
              "  <thead>\n",
              "    <tr style=\"text-align: right;\">\n",
              "      <th></th>\n",
              "      <th>Date</th>\n",
              "      <th>Team</th>\n",
              "      <th>Opponent</th>\n",
              "      <th>Goal Scored</th>\n",
              "      <th>Ball Possession %</th>\n",
              "      <th>Attempts</th>\n",
              "      <th>On-Target</th>\n",
              "      <th>Off-Target</th>\n",
              "      <th>Blocked</th>\n",
              "      <th>Corners</th>\n",
              "      <th>Offsides</th>\n",
              "      <th>Free Kicks</th>\n",
              "      <th>Saves</th>\n",
              "      <th>Pass Accuracy %</th>\n",
              "      <th>Passes</th>\n",
              "      <th>Distance Covered (Kms)</th>\n",
              "      <th>Fouls Committed</th>\n",
              "      <th>Yellow Card</th>\n",
              "      <th>Yellow &amp; Red</th>\n",
              "      <th>Red</th>\n",
              "      <th>Man of the Match</th>\n",
              "      <th>1st Goal</th>\n",
              "      <th>Round</th>\n",
              "      <th>PSO</th>\n",
              "      <th>Goals in PSO</th>\n",
              "      <th>Own goals</th>\n",
              "      <th>Own goal Time</th>\n",
              "    </tr>\n",
              "  </thead>\n",
              "  <tbody>\n",
              "    <tr>\n",
              "      <th>0</th>\n",
              "      <td>14-06-2018</td>\n",
              "      <td>Russia</td>\n",
              "      <td>Saudi Arabia</td>\n",
              "      <td>5</td>\n",
              "      <td>40</td>\n",
              "      <td>13</td>\n",
              "      <td>7</td>\n",
              "      <td>3</td>\n",
              "      <td>3</td>\n",
              "      <td>6</td>\n",
              "      <td>3</td>\n",
              "      <td>11</td>\n",
              "      <td>0</td>\n",
              "      <td>78</td>\n",
              "      <td>306</td>\n",
              "      <td>118</td>\n",
              "      <td>22</td>\n",
              "      <td>0</td>\n",
              "      <td>0</td>\n",
              "      <td>0</td>\n",
              "      <td>Yes</td>\n",
              "      <td>12.0</td>\n",
              "      <td>Group Stage</td>\n",
              "      <td>No</td>\n",
              "      <td>0</td>\n",
              "      <td>NaN</td>\n",
              "      <td>NaN</td>\n",
              "    </tr>\n",
              "    <tr>\n",
              "      <th>1</th>\n",
              "      <td>14-06-2018</td>\n",
              "      <td>Saudi Arabia</td>\n",
              "      <td>Russia</td>\n",
              "      <td>0</td>\n",
              "      <td>60</td>\n",
              "      <td>6</td>\n",
              "      <td>0</td>\n",
              "      <td>3</td>\n",
              "      <td>3</td>\n",
              "      <td>2</td>\n",
              "      <td>1</td>\n",
              "      <td>25</td>\n",
              "      <td>2</td>\n",
              "      <td>86</td>\n",
              "      <td>511</td>\n",
              "      <td>105</td>\n",
              "      <td>10</td>\n",
              "      <td>0</td>\n",
              "      <td>0</td>\n",
              "      <td>0</td>\n",
              "      <td>No</td>\n",
              "      <td>NaN</td>\n",
              "      <td>Group Stage</td>\n",
              "      <td>No</td>\n",
              "      <td>0</td>\n",
              "      <td>NaN</td>\n",
              "      <td>NaN</td>\n",
              "    </tr>\n",
              "    <tr>\n",
              "      <th>2</th>\n",
              "      <td>15-06-2018</td>\n",
              "      <td>Egypt</td>\n",
              "      <td>Uruguay</td>\n",
              "      <td>0</td>\n",
              "      <td>43</td>\n",
              "      <td>8</td>\n",
              "      <td>3</td>\n",
              "      <td>3</td>\n",
              "      <td>2</td>\n",
              "      <td>0</td>\n",
              "      <td>1</td>\n",
              "      <td>7</td>\n",
              "      <td>3</td>\n",
              "      <td>78</td>\n",
              "      <td>395</td>\n",
              "      <td>112</td>\n",
              "      <td>12</td>\n",
              "      <td>2</td>\n",
              "      <td>0</td>\n",
              "      <td>0</td>\n",
              "      <td>No</td>\n",
              "      <td>NaN</td>\n",
              "      <td>Group Stage</td>\n",
              "      <td>No</td>\n",
              "      <td>0</td>\n",
              "      <td>NaN</td>\n",
              "      <td>NaN</td>\n",
              "    </tr>\n",
              "    <tr>\n",
              "      <th>3</th>\n",
              "      <td>15-06-2018</td>\n",
              "      <td>Uruguay</td>\n",
              "      <td>Egypt</td>\n",
              "      <td>1</td>\n",
              "      <td>57</td>\n",
              "      <td>14</td>\n",
              "      <td>4</td>\n",
              "      <td>6</td>\n",
              "      <td>4</td>\n",
              "      <td>5</td>\n",
              "      <td>1</td>\n",
              "      <td>13</td>\n",
              "      <td>3</td>\n",
              "      <td>86</td>\n",
              "      <td>589</td>\n",
              "      <td>111</td>\n",
              "      <td>6</td>\n",
              "      <td>0</td>\n",
              "      <td>0</td>\n",
              "      <td>0</td>\n",
              "      <td>Yes</td>\n",
              "      <td>89.0</td>\n",
              "      <td>Group Stage</td>\n",
              "      <td>No</td>\n",
              "      <td>0</td>\n",
              "      <td>NaN</td>\n",
              "      <td>NaN</td>\n",
              "    </tr>\n",
              "    <tr>\n",
              "      <th>4</th>\n",
              "      <td>15-06-2018</td>\n",
              "      <td>Morocco</td>\n",
              "      <td>Iran</td>\n",
              "      <td>0</td>\n",
              "      <td>64</td>\n",
              "      <td>13</td>\n",
              "      <td>3</td>\n",
              "      <td>6</td>\n",
              "      <td>4</td>\n",
              "      <td>5</td>\n",
              "      <td>0</td>\n",
              "      <td>14</td>\n",
              "      <td>2</td>\n",
              "      <td>86</td>\n",
              "      <td>433</td>\n",
              "      <td>101</td>\n",
              "      <td>22</td>\n",
              "      <td>1</td>\n",
              "      <td>0</td>\n",
              "      <td>0</td>\n",
              "      <td>No</td>\n",
              "      <td>NaN</td>\n",
              "      <td>Group Stage</td>\n",
              "      <td>No</td>\n",
              "      <td>0</td>\n",
              "      <td>1.0</td>\n",
              "      <td>90.0</td>\n",
              "    </tr>\n",
              "    <tr>\n",
              "      <th>...</th>\n",
              "      <td>...</td>\n",
              "      <td>...</td>\n",
              "      <td>...</td>\n",
              "      <td>...</td>\n",
              "      <td>...</td>\n",
              "      <td>...</td>\n",
              "      <td>...</td>\n",
              "      <td>...</td>\n",
              "      <td>...</td>\n",
              "      <td>...</td>\n",
              "      <td>...</td>\n",
              "      <td>...</td>\n",
              "      <td>...</td>\n",
              "      <td>...</td>\n",
              "      <td>...</td>\n",
              "      <td>...</td>\n",
              "      <td>...</td>\n",
              "      <td>...</td>\n",
              "      <td>...</td>\n",
              "      <td>...</td>\n",
              "      <td>...</td>\n",
              "      <td>...</td>\n",
              "      <td>...</td>\n",
              "      <td>...</td>\n",
              "      <td>...</td>\n",
              "      <td>...</td>\n",
              "      <td>...</td>\n",
              "    </tr>\n",
              "    <tr>\n",
              "      <th>123</th>\n",
              "      <td>11-07-2018</td>\n",
              "      <td>England</td>\n",
              "      <td>Croatia</td>\n",
              "      <td>1</td>\n",
              "      <td>46</td>\n",
              "      <td>11</td>\n",
              "      <td>1</td>\n",
              "      <td>6</td>\n",
              "      <td>4</td>\n",
              "      <td>4</td>\n",
              "      <td>3</td>\n",
              "      <td>24</td>\n",
              "      <td>5</td>\n",
              "      <td>79</td>\n",
              "      <td>479</td>\n",
              "      <td>148</td>\n",
              "      <td>14</td>\n",
              "      <td>1</td>\n",
              "      <td>0</td>\n",
              "      <td>0</td>\n",
              "      <td>No</td>\n",
              "      <td>5.0</td>\n",
              "      <td>Semi- Finals</td>\n",
              "      <td>No</td>\n",
              "      <td>0</td>\n",
              "      <td>NaN</td>\n",
              "      <td>NaN</td>\n",
              "    </tr>\n",
              "    <tr>\n",
              "      <th>124</th>\n",
              "      <td>14-07-2018</td>\n",
              "      <td>Belgium</td>\n",
              "      <td>England</td>\n",
              "      <td>2</td>\n",
              "      <td>43</td>\n",
              "      <td>12</td>\n",
              "      <td>4</td>\n",
              "      <td>3</td>\n",
              "      <td>5</td>\n",
              "      <td>4</td>\n",
              "      <td>1</td>\n",
              "      <td>5</td>\n",
              "      <td>5</td>\n",
              "      <td>88</td>\n",
              "      <td>510</td>\n",
              "      <td>108</td>\n",
              "      <td>11</td>\n",
              "      <td>1</td>\n",
              "      <td>0</td>\n",
              "      <td>0</td>\n",
              "      <td>Yes</td>\n",
              "      <td>4.0</td>\n",
              "      <td>3rd Place</td>\n",
              "      <td>No</td>\n",
              "      <td>0</td>\n",
              "      <td>NaN</td>\n",
              "      <td>NaN</td>\n",
              "    </tr>\n",
              "    <tr>\n",
              "      <th>125</th>\n",
              "      <td>14-07-2018</td>\n",
              "      <td>England</td>\n",
              "      <td>Belgium</td>\n",
              "      <td>0</td>\n",
              "      <td>57</td>\n",
              "      <td>15</td>\n",
              "      <td>5</td>\n",
              "      <td>7</td>\n",
              "      <td>3</td>\n",
              "      <td>5</td>\n",
              "      <td>0</td>\n",
              "      <td>12</td>\n",
              "      <td>2</td>\n",
              "      <td>92</td>\n",
              "      <td>698</td>\n",
              "      <td>110</td>\n",
              "      <td>5</td>\n",
              "      <td>2</td>\n",
              "      <td>0</td>\n",
              "      <td>0</td>\n",
              "      <td>No</td>\n",
              "      <td>NaN</td>\n",
              "      <td>3rd Place</td>\n",
              "      <td>No</td>\n",
              "      <td>0</td>\n",
              "      <td>NaN</td>\n",
              "      <td>NaN</td>\n",
              "    </tr>\n",
              "    <tr>\n",
              "      <th>126</th>\n",
              "      <td>15-07-2018</td>\n",
              "      <td>France</td>\n",
              "      <td>Croatia</td>\n",
              "      <td>4</td>\n",
              "      <td>39</td>\n",
              "      <td>8</td>\n",
              "      <td>6</td>\n",
              "      <td>1</td>\n",
              "      <td>1</td>\n",
              "      <td>2</td>\n",
              "      <td>1</td>\n",
              "      <td>14</td>\n",
              "      <td>1</td>\n",
              "      <td>75</td>\n",
              "      <td>271</td>\n",
              "      <td>99</td>\n",
              "      <td>14</td>\n",
              "      <td>2</td>\n",
              "      <td>0</td>\n",
              "      <td>0</td>\n",
              "      <td>Yes</td>\n",
              "      <td>18.0</td>\n",
              "      <td>Final</td>\n",
              "      <td>No</td>\n",
              "      <td>0</td>\n",
              "      <td>1.0</td>\n",
              "      <td>18.0</td>\n",
              "    </tr>\n",
              "    <tr>\n",
              "      <th>127</th>\n",
              "      <td>15-07-2018</td>\n",
              "      <td>Croatia</td>\n",
              "      <td>France</td>\n",
              "      <td>2</td>\n",
              "      <td>61</td>\n",
              "      <td>15</td>\n",
              "      <td>3</td>\n",
              "      <td>8</td>\n",
              "      <td>4</td>\n",
              "      <td>6</td>\n",
              "      <td>1</td>\n",
              "      <td>15</td>\n",
              "      <td>3</td>\n",
              "      <td>83</td>\n",
              "      <td>547</td>\n",
              "      <td>100</td>\n",
              "      <td>13</td>\n",
              "      <td>1</td>\n",
              "      <td>0</td>\n",
              "      <td>0</td>\n",
              "      <td>No</td>\n",
              "      <td>28.0</td>\n",
              "      <td>Final</td>\n",
              "      <td>No</td>\n",
              "      <td>0</td>\n",
              "      <td>NaN</td>\n",
              "      <td>NaN</td>\n",
              "    </tr>\n",
              "  </tbody>\n",
              "</table>\n",
              "<p>128 rows × 27 columns</p>\n",
              "</div>"
            ],
            "text/plain": [
              "           Date          Team  ... Own goals  Own goal Time\n",
              "0    14-06-2018        Russia  ...       NaN            NaN\n",
              "1    14-06-2018  Saudi Arabia  ...       NaN            NaN\n",
              "2    15-06-2018         Egypt  ...       NaN            NaN\n",
              "3    15-06-2018       Uruguay  ...       NaN            NaN\n",
              "4    15-06-2018       Morocco  ...       1.0           90.0\n",
              "..          ...           ...  ...       ...            ...\n",
              "123  11-07-2018       England  ...       NaN            NaN\n",
              "124  14-07-2018       Belgium  ...       NaN            NaN\n",
              "125  14-07-2018       England  ...       NaN            NaN\n",
              "126  15-07-2018        France  ...       1.0           18.0\n",
              "127  15-07-2018       Croatia  ...       NaN            NaN\n",
              "\n",
              "[128 rows x 27 columns]"
            ]
          },
          "metadata": {
            "tags": []
          },
          "execution_count": 75
        }
      ]
    },
    {
      "cell_type": "markdown",
      "metadata": {
        "id": "DHtkHqWcZNG_"
      },
      "source": [
        "##**2**.**เลือกข้อมูล**"
      ]
    },
    {
      "cell_type": "code",
      "metadata": {
        "id": "3ChKsErZZfNp",
        "outputId": "b7ec1027-bb41-4935-a242-a3749deb72bf",
        "colab": {
          "base_uri": "https://localhost:8080/"
        }
      },
      "source": [
        "sph.shape #เลือกเฉพาะข้อมูลที่ต้องการ นั่นคือ Goal-scored ถึง Rad"
      ],
      "execution_count": 76,
      "outputs": [
        {
          "output_type": "execute_result",
          "data": {
            "text/plain": [
              "(128, 27)"
            ]
          },
          "metadata": {
            "tags": []
          },
          "execution_count": 76
        }
      ]
    },
    {
      "cell_type": "code",
      "metadata": {
        "id": "JP4vNlb2Z0QX",
        "outputId": "37847882-9b0e-4401-9e47-ffa0122afede",
        "colab": {
          "base_uri": "https://localhost:8080/",
          "height": 470
        }
      },
      "source": [
        "sph_drop = sph3.iloc[:,3:20]\n",
        "sph_drop"
      ],
      "execution_count": 77,
      "outputs": [
        {
          "output_type": "execute_result",
          "data": {
            "text/html": [
              "<div>\n",
              "<style scoped>\n",
              "    .dataframe tbody tr th:only-of-type {\n",
              "        vertical-align: middle;\n",
              "    }\n",
              "\n",
              "    .dataframe tbody tr th {\n",
              "        vertical-align: top;\n",
              "    }\n",
              "\n",
              "    .dataframe thead th {\n",
              "        text-align: right;\n",
              "    }\n",
              "</style>\n",
              "<table border=\"1\" class=\"dataframe\">\n",
              "  <thead>\n",
              "    <tr style=\"text-align: right;\">\n",
              "      <th></th>\n",
              "      <th>Goal Scored</th>\n",
              "      <th>Ball Possession %</th>\n",
              "      <th>Attempts</th>\n",
              "      <th>On-Target</th>\n",
              "      <th>Off-Target</th>\n",
              "      <th>Blocked</th>\n",
              "      <th>Corners</th>\n",
              "      <th>Offsides</th>\n",
              "      <th>Free Kicks</th>\n",
              "      <th>Saves</th>\n",
              "      <th>Pass Accuracy %</th>\n",
              "      <th>Passes</th>\n",
              "      <th>Distance Covered (Kms)</th>\n",
              "      <th>Fouls Committed</th>\n",
              "      <th>Yellow Card</th>\n",
              "      <th>Yellow &amp; Red</th>\n",
              "      <th>Red</th>\n",
              "    </tr>\n",
              "  </thead>\n",
              "  <tbody>\n",
              "    <tr>\n",
              "      <th>0</th>\n",
              "      <td>5</td>\n",
              "      <td>40</td>\n",
              "      <td>13</td>\n",
              "      <td>7</td>\n",
              "      <td>3</td>\n",
              "      <td>3</td>\n",
              "      <td>6</td>\n",
              "      <td>3</td>\n",
              "      <td>11</td>\n",
              "      <td>0</td>\n",
              "      <td>78</td>\n",
              "      <td>306</td>\n",
              "      <td>118</td>\n",
              "      <td>22</td>\n",
              "      <td>0</td>\n",
              "      <td>0</td>\n",
              "      <td>0</td>\n",
              "    </tr>\n",
              "    <tr>\n",
              "      <th>1</th>\n",
              "      <td>0</td>\n",
              "      <td>60</td>\n",
              "      <td>6</td>\n",
              "      <td>0</td>\n",
              "      <td>3</td>\n",
              "      <td>3</td>\n",
              "      <td>2</td>\n",
              "      <td>1</td>\n",
              "      <td>25</td>\n",
              "      <td>2</td>\n",
              "      <td>86</td>\n",
              "      <td>511</td>\n",
              "      <td>105</td>\n",
              "      <td>10</td>\n",
              "      <td>0</td>\n",
              "      <td>0</td>\n",
              "      <td>0</td>\n",
              "    </tr>\n",
              "    <tr>\n",
              "      <th>2</th>\n",
              "      <td>0</td>\n",
              "      <td>43</td>\n",
              "      <td>8</td>\n",
              "      <td>3</td>\n",
              "      <td>3</td>\n",
              "      <td>2</td>\n",
              "      <td>0</td>\n",
              "      <td>1</td>\n",
              "      <td>7</td>\n",
              "      <td>3</td>\n",
              "      <td>78</td>\n",
              "      <td>395</td>\n",
              "      <td>112</td>\n",
              "      <td>12</td>\n",
              "      <td>2</td>\n",
              "      <td>0</td>\n",
              "      <td>0</td>\n",
              "    </tr>\n",
              "    <tr>\n",
              "      <th>3</th>\n",
              "      <td>1</td>\n",
              "      <td>57</td>\n",
              "      <td>14</td>\n",
              "      <td>4</td>\n",
              "      <td>6</td>\n",
              "      <td>4</td>\n",
              "      <td>5</td>\n",
              "      <td>1</td>\n",
              "      <td>13</td>\n",
              "      <td>3</td>\n",
              "      <td>86</td>\n",
              "      <td>589</td>\n",
              "      <td>111</td>\n",
              "      <td>6</td>\n",
              "      <td>0</td>\n",
              "      <td>0</td>\n",
              "      <td>0</td>\n",
              "    </tr>\n",
              "    <tr>\n",
              "      <th>4</th>\n",
              "      <td>0</td>\n",
              "      <td>64</td>\n",
              "      <td>13</td>\n",
              "      <td>3</td>\n",
              "      <td>6</td>\n",
              "      <td>4</td>\n",
              "      <td>5</td>\n",
              "      <td>0</td>\n",
              "      <td>14</td>\n",
              "      <td>2</td>\n",
              "      <td>86</td>\n",
              "      <td>433</td>\n",
              "      <td>101</td>\n",
              "      <td>22</td>\n",
              "      <td>1</td>\n",
              "      <td>0</td>\n",
              "      <td>0</td>\n",
              "    </tr>\n",
              "    <tr>\n",
              "      <th>...</th>\n",
              "      <td>...</td>\n",
              "      <td>...</td>\n",
              "      <td>...</td>\n",
              "      <td>...</td>\n",
              "      <td>...</td>\n",
              "      <td>...</td>\n",
              "      <td>...</td>\n",
              "      <td>...</td>\n",
              "      <td>...</td>\n",
              "      <td>...</td>\n",
              "      <td>...</td>\n",
              "      <td>...</td>\n",
              "      <td>...</td>\n",
              "      <td>...</td>\n",
              "      <td>...</td>\n",
              "      <td>...</td>\n",
              "      <td>...</td>\n",
              "    </tr>\n",
              "    <tr>\n",
              "      <th>123</th>\n",
              "      <td>1</td>\n",
              "      <td>46</td>\n",
              "      <td>11</td>\n",
              "      <td>1</td>\n",
              "      <td>6</td>\n",
              "      <td>4</td>\n",
              "      <td>4</td>\n",
              "      <td>3</td>\n",
              "      <td>24</td>\n",
              "      <td>5</td>\n",
              "      <td>79</td>\n",
              "      <td>479</td>\n",
              "      <td>148</td>\n",
              "      <td>14</td>\n",
              "      <td>1</td>\n",
              "      <td>0</td>\n",
              "      <td>0</td>\n",
              "    </tr>\n",
              "    <tr>\n",
              "      <th>124</th>\n",
              "      <td>2</td>\n",
              "      <td>43</td>\n",
              "      <td>12</td>\n",
              "      <td>4</td>\n",
              "      <td>3</td>\n",
              "      <td>5</td>\n",
              "      <td>4</td>\n",
              "      <td>1</td>\n",
              "      <td>5</td>\n",
              "      <td>5</td>\n",
              "      <td>88</td>\n",
              "      <td>510</td>\n",
              "      <td>108</td>\n",
              "      <td>11</td>\n",
              "      <td>1</td>\n",
              "      <td>0</td>\n",
              "      <td>0</td>\n",
              "    </tr>\n",
              "    <tr>\n",
              "      <th>125</th>\n",
              "      <td>0</td>\n",
              "      <td>57</td>\n",
              "      <td>15</td>\n",
              "      <td>5</td>\n",
              "      <td>7</td>\n",
              "      <td>3</td>\n",
              "      <td>5</td>\n",
              "      <td>0</td>\n",
              "      <td>12</td>\n",
              "      <td>2</td>\n",
              "      <td>92</td>\n",
              "      <td>698</td>\n",
              "      <td>110</td>\n",
              "      <td>5</td>\n",
              "      <td>2</td>\n",
              "      <td>0</td>\n",
              "      <td>0</td>\n",
              "    </tr>\n",
              "    <tr>\n",
              "      <th>126</th>\n",
              "      <td>4</td>\n",
              "      <td>39</td>\n",
              "      <td>8</td>\n",
              "      <td>6</td>\n",
              "      <td>1</td>\n",
              "      <td>1</td>\n",
              "      <td>2</td>\n",
              "      <td>1</td>\n",
              "      <td>14</td>\n",
              "      <td>1</td>\n",
              "      <td>75</td>\n",
              "      <td>271</td>\n",
              "      <td>99</td>\n",
              "      <td>14</td>\n",
              "      <td>2</td>\n",
              "      <td>0</td>\n",
              "      <td>0</td>\n",
              "    </tr>\n",
              "    <tr>\n",
              "      <th>127</th>\n",
              "      <td>2</td>\n",
              "      <td>61</td>\n",
              "      <td>15</td>\n",
              "      <td>3</td>\n",
              "      <td>8</td>\n",
              "      <td>4</td>\n",
              "      <td>6</td>\n",
              "      <td>1</td>\n",
              "      <td>15</td>\n",
              "      <td>3</td>\n",
              "      <td>83</td>\n",
              "      <td>547</td>\n",
              "      <td>100</td>\n",
              "      <td>13</td>\n",
              "      <td>1</td>\n",
              "      <td>0</td>\n",
              "      <td>0</td>\n",
              "    </tr>\n",
              "  </tbody>\n",
              "</table>\n",
              "<p>128 rows × 17 columns</p>\n",
              "</div>"
            ],
            "text/plain": [
              "     Goal Scored  Ball Possession %  Attempts  ...  Yellow Card  Yellow & Red  Red\n",
              "0              5                 40        13  ...            0             0    0\n",
              "1              0                 60         6  ...            0             0    0\n",
              "2              0                 43         8  ...            2             0    0\n",
              "3              1                 57        14  ...            0             0    0\n",
              "4              0                 64        13  ...            1             0    0\n",
              "..           ...                ...       ...  ...          ...           ...  ...\n",
              "123            1                 46        11  ...            1             0    0\n",
              "124            2                 43        12  ...            1             0    0\n",
              "125            0                 57        15  ...            2             0    0\n",
              "126            4                 39         8  ...            2             0    0\n",
              "127            2                 61        15  ...            1             0    0\n",
              "\n",
              "[128 rows x 17 columns]"
            ]
          },
          "metadata": {
            "tags": []
          },
          "execution_count": 77
        }
      ]
    },
    {
      "cell_type": "markdown",
      "metadata": {
        "id": "f8NUnzEHZaSN"
      },
      "source": [
        "##**3.ดูขนาดของข้อมูล**"
      ]
    },
    {
      "cell_type": "code",
      "metadata": {
        "id": "pZxZ5hYHc0nX",
        "outputId": "cb037793-d5b3-42fc-99cb-cec67be858aa",
        "colab": {
          "base_uri": "https://localhost:8080/"
        }
      },
      "source": [
        "sph_drop.shape"
      ],
      "execution_count": 80,
      "outputs": [
        {
          "output_type": "execute_result",
          "data": {
            "text/plain": [
              "(128, 17)"
            ]
          },
          "metadata": {
            "tags": []
          },
          "execution_count": 80
        }
      ]
    },
    {
      "cell_type": "markdown",
      "metadata": {
        "id": "aYf5ee7paq8v"
      },
      "source": [
        "##**4**.**การใช้** **Bartlett**'**s** **test**\n",
        "หากมีค่า p-value เข้าใกล้ จะถึงว่าดี"
      ]
    },
    {
      "cell_type": "code",
      "metadata": {
        "id": "z0KZqcm-Y8jB",
        "outputId": "86a80937-e200-4d01-bac2-7d28c68580e2",
        "colab": {
          "base_uri": "https://localhost:8080/"
        }
      },
      "source": [
        "from factor_analyzer.factor_analyzer import calculate_bartlett_sphericity\n",
        "\n",
        "chi_square_value,p_value = calculate_bartlett_sphericity(sph_drop)\n",
        "\n",
        "chi_square_value, p_value"
      ],
      "execution_count": 82,
      "outputs": [
        {
          "output_type": "execute_result",
          "data": {
            "text/plain": [
              "(1299.3697851171412, 2.713580160466225e-189)"
            ]
          },
          "metadata": {
            "tags": []
          },
          "execution_count": 82
        }
      ]
    },
    {
      "cell_type": "markdown",
      "metadata": {
        "id": "adAgbDjkdLKg"
      },
      "source": [
        "###**แปลผลจาก output ได้ว่า**\n",
        "ค่า P-value มีค่า 2.71 x 10^-189 ซึ่งมีค่าเข้าใกล้ 0 มาก\n",
        "\n",
        "##**5.ทำการใช้ Kaiser-Meyer-Olkin (KMO) Test**\n",
        "ถ้าค่า KMO model มีค่ามากกว่า 0.6 แปลว่าข้อมูลเหมาะสมที่นำไปทำ Factor Analysis"
      ]
    },
    {
      "cell_type": "code",
      "metadata": {
        "id": "p2gHJ005bQxb",
        "outputId": "6d0169f4-247d-4075-eab3-051a9d90f6f7",
        "colab": {
          "base_uri": "https://localhost:8080/"
        }
      },
      "source": [
        "from factor_analyzer.factor_analyzer import calculate_kmo\n",
        "\n",
        "kmo_all,kmo_model=calculate_kmo(sph_drop)\n",
        "\n",
        "kmo_model"
      ],
      "execution_count": 84,
      "outputs": [
        {
          "output_type": "execute_result",
          "data": {
            "text/plain": [
              "0.5594556344508279"
            ]
          },
          "metadata": {
            "tags": []
          },
          "execution_count": 84
        }
      ]
    },
    {
      "cell_type": "markdown",
      "metadata": {
        "id": "sJ74SQ_zdtVV"
      },
      "source": [
        "###**แปลผลจาก Output ได้ว่า**\n",
        "ค่า KMO จาก model มีค่าประมาณได้ 0.6 แปลว่าเหมาะสมที่นำไปทำ Factor Analysis"
      ]
    },
    {
      "cell_type": "markdown",
      "metadata": {
        "id": "u2iU6OaFeO_n"
      },
      "source": [
        "##**6.ทำการ Factor Analysis**"
      ]
    },
    {
      "cell_type": "markdown",
      "metadata": {
        "id": "LkkkXzADeW92"
      },
      "source": [
        "**Import**"
      ]
    },
    {
      "cell_type": "code",
      "metadata": {
        "id": "S0IVfR0rdf_D"
      },
      "source": [
        "from factor_analyzer import FactorAnalyzer"
      ],
      "execution_count": 85,
      "outputs": []
    },
    {
      "cell_type": "markdown",
      "metadata": {
        "id": "j9LqCklyej9I"
      },
      "source": [
        "**Define**"
      ]
    },
    {
      "cell_type": "code",
      "metadata": {
        "id": "puxcVrNJegZ7"
      },
      "source": [
        "sph_fa = FactorAnalyzer(n_factors=13)"
      ],
      "execution_count": 87,
      "outputs": []
    },
    {
      "cell_type": "markdown",
      "metadata": {
        "id": "si-5Ei4Heo5g"
      },
      "source": [
        "**Fit-transform**"
      ]
    },
    {
      "cell_type": "code",
      "metadata": {
        "id": "VPxL6Hm2es_E"
      },
      "source": [
        "newsph_fa = sph_fa.fit_transform(sph_drop)"
      ],
      "execution_count": 88,
      "outputs": []
    },
    {
      "cell_type": "code",
      "metadata": {
        "id": "07hXnJbBfFzt",
        "outputId": "8e3d49af-9fcf-465d-d4d9-5c19af122c9c",
        "colab": {
          "base_uri": "https://localhost:8080/"
        }
      },
      "source": [
        "newsph_fa.shape"
      ],
      "execution_count": 89,
      "outputs": [
        {
          "output_type": "execute_result",
          "data": {
            "text/plain": [
              "(128, 13)"
            ]
          },
          "metadata": {
            "tags": []
          },
          "execution_count": 89
        }
      ]
    },
    {
      "cell_type": "markdown",
      "metadata": {
        "id": "i03DxW_DfYJ-"
      },
      "source": [
        "##**7.ตัดสินว่าเราจะลดเหลือกี่ dimension โดยการใช้ eigen values**"
      ]
    },
    {
      "cell_type": "code",
      "metadata": {
        "id": "gD967AOMfNQL",
        "outputId": "b18731d7-d7b9-4bd5-c842-6d595a6a10ee",
        "colab": {
          "base_uri": "https://localhost:8080/"
        }
      },
      "source": [
        "ev,v = sph_fa.get_eigenvalues()\n",
        "ev"
      ],
      "execution_count": 90,
      "outputs": [
        {
          "output_type": "execute_result",
          "data": {
            "text/plain": [
              "array([4.93533676, 1.66110682, 1.45898601, 1.31857945, 1.27991548,\n",
              "       1.1607222 , 0.89822418, 0.80740568, 0.78874612, 0.65948826,\n",
              "       0.56563441, 0.48116939, 0.38549929, 0.29659929, 0.22859409,\n",
              "       0.06848785, 0.00550471])"
            ]
          },
          "metadata": {
            "tags": []
          },
          "execution_count": 90
        }
      ]
    },
    {
      "cell_type": "markdown",
      "metadata": {
        "id": "YhYj_OOjfl6f"
      },
      "source": [
        "##**8.ทำการ scree plot**"
      ]
    },
    {
      "cell_type": "code",
      "metadata": {
        "id": "VbOOKTGjfhvA",
        "outputId": "957ac16c-657b-449a-de03-ec5bc8bfb4fe",
        "colab": {
          "base_uri": "https://localhost:8080/",
          "height": 893
        }
      },
      "source": [
        "plt.plot(range(1,sph_drop.shape[1]+1),ev,'bo-')\n",
        "plt.plot([0,sph_drop.shape[1]+1],[1,1],'r--')\n",
        "plt.title('Scree Plot ')\n",
        "plt.xlabel('Factors')\n",
        "plt.ylabel('Eigenvalue')\n",
        "plt.grid()\n",
        "plt.show()"
      ],
      "execution_count": 91,
      "outputs": [
        {
          "output_type": "display_data",
          "data": {
            "image/png": "[encoded data removed]",
            "text/plain": [
              "<Figure size 1080x1080 with 1 Axes>"
            ]
          },
          "metadata": {
            "tags": [],
            "needs_background": "light"
          }
        }
      ]
    },
    {
      "cell_type": "code",
      "metadata": {
        "id": "O3S30E4tf4AC",
        "outputId": "c595cd2e-ad24-4a30-d888-666b68b7f061",
        "colab": {
          "base_uri": "https://localhost:8080/"
        }
      },
      "source": [
        "newsph_fa[:,:6]"
      ],
      "execution_count": 92,
      "outputs": [
        {
          "output_type": "execute_result",
          "data": {
            "text/plain": [
              "array([[-1.18730841e+00,  1.00482579e+00,  3.06571491e+00,\n",
              "        -9.12059814e-02, -1.14811326e+00, -1.58060669e-01],\n",
              "       [ 4.85455399e-01, -1.49046441e-01, -1.10056207e+00,\n",
              "        -1.17283269e-01, -3.02183966e-01, -8.89154843e-01],\n",
              "       [-5.96060405e-01,  4.52438495e-01, -9.83844997e-01,\n",
              "        -1.13497361e-01,  1.42041745e-01,  9.76038426e-02],\n",
              "       [ 8.10309595e-01,  2.75487261e-01, -4.15967141e-01,\n",
              "        -1.50776032e-01,  4.80502000e-02, -1.39333303e+00],\n",
              "       [ 1.28374465e-01, -4.00369208e-01, -8.02365182e-01,\n",
              "        -9.80239077e-02, -2.37110434e-01,  1.95633935e-01],\n",
              "       [-1.39107788e+00, -5.57517865e-01, -6.68057547e-02,\n",
              "        -1.28248662e-01, -2.17058037e-01,  1.04705766e+00],\n",
              "       [-4.88024024e-01, -4.44024082e-01,  1.28042041e+00,\n",
              "        -1.10777888e-01, -2.97388644e-01, -3.01981048e-01],\n",
              "       [ 1.75946928e+00, -4.46588262e-01,  1.14236001e+00,\n",
              "        -1.70282990e-01, -1.38641108e+00, -8.53552639e-01],\n",
              "       [ 1.78701565e-01, -2.92681789e-01,  6.66383596e-01,\n",
              "        -1.21179709e-01, -8.15649366e-01, -1.95660899e-01],\n",
              "       [-4.70804754e-01,  4.00857229e-01, -5.82012025e-02,\n",
              "        -8.60054427e-02,  7.02340286e-01,  1.21667534e+00],\n",
              "       [ 1.90807327e+00, -5.60096799e-01, -3.76691330e-01,\n",
              "        -1.44256196e-01, -4.48875447e-01, -1.34779162e+00],\n",
              "       [-1.99005003e+00, -1.66226160e-02, -2.55140140e-01,\n",
              "        -1.09272044e-01,  1.99134881e+00, -7.29083358e-01],\n",
              "       [ 6.58653734e-03, -3.70525210e-01, -9.04515390e-01,\n",
              "        -1.69099240e-01, -3.63692311e-01, -5.61387829e-01],\n",
              "       [-6.38471892e-01,  2.75251384e-01, -6.38664935e-02,\n",
              "        -9.47607989e-02,  1.57415099e+00,  5.21035252e-01],\n",
              "       [ 5.40716847e-02, -1.70904491e-01,  4.95895148e-01,\n",
              "        -1.17512840e-01, -2.65604793e-01,  5.39286260e-01],\n",
              "       [-3.71825378e-01, -4.35920055e-01, -1.03654357e+00,\n",
              "        -9.86550025e-02, -7.36579311e-01, -1.09188283e-01],\n",
              "       [-2.47804952e-01,  8.57990470e-02, -8.35414395e-01,\n",
              "        -8.14729019e-02, -2.95353941e-01,  5.00459169e-01],\n",
              "       [-3.19534790e-01,  1.74021335e-01, -1.43337820e-01,\n",
              "        -1.20818149e-01,  1.75960749e-01,  3.66737429e-01],\n",
              "       [ 9.58327908e-01,  1.79794049e-01, -8.74791927e-01,\n",
              "        -1.59019510e-01, -9.38566149e-03, -2.64114806e-01],\n",
              "       [-9.07515361e-01, -1.53271433e-01, -1.06465246e-01,\n",
              "        -1.43250593e-01,  2.91748086e+00,  2.50689986e-01],\n",
              "       [ 4.82795749e-01, -3.47995860e-01, -4.18750683e-01,\n",
              "        -1.49886323e-01, -8.19702668e-01, -5.39170054e-01],\n",
              "       [-2.94827838e-01,  1.75348863e-01, -1.25687676e-01,\n",
              "        -1.07506717e-01,  1.77215610e-01,  1.02588430e+00],\n",
              "       [-1.86006776e-01, -3.16619221e-01, -1.05128041e-01,\n",
              "        -9.59550387e-02, -1.19740323e+00,  1.22363532e-01],\n",
              "       [-7.88775523e-01, -1.30033476e-01, -8.51694196e-01,\n",
              "        -4.36351709e-02,  2.49341246e-01,  9.16409210e-01],\n",
              "       [ 7.22514862e-01, -3.90385284e-01,  1.45417282e+00,\n",
              "        -1.28821792e-01, -3.55084757e-01,  8.54455718e-01],\n",
              "       [-8.45604600e-01, -5.30566848e-01, -8.25200436e-01,\n",
              "        -1.06535550e-01, -2.83956120e-01,  2.01828357e+00],\n",
              "       [-7.34437585e-01, -3.37874283e-01, -2.77965958e-01,\n",
              "        -1.13244779e-01,  1.09907354e+00, -7.71945703e-01],\n",
              "       [ 6.21810319e-01, -2.82355317e-01,  6.26715014e-01,\n",
              "        -1.69157659e-01, -1.30163149e+00, -6.59960430e-01],\n",
              "       [-5.85036747e-01, -1.10283202e+00, -2.87234633e-01,\n",
              "         7.70622769e+00,  6.24317995e-01,  3.34579874e-01],\n",
              "       [ 8.56887244e-01, -5.37832819e-01,  5.50378305e-01,\n",
              "        -1.43728980e-01, -4.26625585e-01, -6.93571185e-01],\n",
              "       [ 7.00210812e-01,  1.68042182e-01, -2.46710152e-01,\n",
              "        -1.64315777e-01, -8.52676430e-01, -6.90603450e-01],\n",
              "       [-7.51715567e-01,  1.03654002e-02,  5.08996636e-01,\n",
              "        -1.08974183e-01,  2.22040312e-01,  3.87596080e-01],\n",
              "       [-7.43757808e-01,  8.04014177e-01,  1.14749357e+00,\n",
              "        -8.97249784e-02, -1.15569754e+00, -2.25247573e-01],\n",
              "       [-1.58166274e-01,  3.16154736e-01, -5.28573825e-01,\n",
              "        -1.30648158e-01, -7.06418750e-01, -4.28351561e-01],\n",
              "       [-6.06826532e-01, -1.34716885e-02, -2.11686164e-01,\n",
              "        -7.93685242e-02,  6.39149403e-01,  8.50943460e-02],\n",
              "       [-2.17693722e-01,  1.96595740e-01, -9.38178888e-01,\n",
              "        -1.31650203e-01, -7.97284832e-01,  4.34362524e-02],\n",
              "       [ 4.50540234e-01, -5.68095199e-01, -3.45099137e-01,\n",
              "        -1.69682904e-01,  2.59712117e-02, -1.27007910e+00],\n",
              "       [ 7.97698140e-01, -6.02157049e-01, -1.04205137e+00,\n",
              "        -1.29013273e-01,  9.09644643e-03, -1.19284979e+00],\n",
              "       [-1.82214432e+00,  8.62748387e-02, -1.13015443e+00,\n",
              "        -1.04167482e-01, -2.51997984e-01,  3.46691628e-01],\n",
              "       [ 2.06496527e+00, -1.50526320e-01, -5.45007008e-01,\n",
              "        -1.24234443e-01, -1.33672254e+00, -1.14643080e+00],\n",
              "       [ 9.31893408e-02,  3.12024490e-01, -1.56296635e-01,\n",
              "        -1.58599899e-01,  5.36474258e-01, -2.53371184e-01],\n",
              "       [ 3.35380009e-01,  5.12412957e-01, -3.22316322e-01,\n",
              "        -1.40403657e-01,  9.66809198e-01, -1.41609941e+00],\n",
              "       [-4.79291594e-01, -2.33914523e-01, -2.86256847e-01,\n",
              "        -1.24289429e-01, -3.63468017e-01,  2.60027840e-02],\n",
              "       [ 4.14259505e-01, -3.50743192e-01, -1.10806080e+00,\n",
              "        -1.24964904e-01,  1.07899096e-01,  7.90095507e-02],\n",
              "       [ 3.82444396e-01, -4.37403095e-01, -9.12920170e-01,\n",
              "        -8.82684453e-02, -3.41297160e-01,  8.05398000e-01],\n",
              "       [-5.78683220e-01, -2.03708807e-01,  1.39951238e+00,\n",
              "        -1.19384245e-01,  1.94864222e-01,  1.72880889e+00],\n",
              "       [ 1.80442936e+00, -2.45539448e-01,  5.15110496e-01,\n",
              "        -1.70217003e-01, -1.43068398e+00, -3.78110629e-01],\n",
              "       [-1.33106887e+00,  2.03088524e-01, -1.12578907e+00,\n",
              "        -1.18302199e-01,  2.00233947e+00, -4.09745484e-01],\n",
              "       [ 3.95760936e-01, -6.07908057e-01,  3.64547111e-01,\n",
              "        -1.20029128e-01,  1.44739425e-01, -5.90394374e-01],\n",
              "       [-1.12989733e+00,  2.89895000e-02, -1.02393652e+00,\n",
              "        -1.21563974e-01, -3.12975506e-01, -9.58538399e-01],\n",
              "       [-1.14850625e+00,  8.64353226e-01, -1.48403053e-01,\n",
              "        -1.10268086e-01,  2.43967220e-01,  1.61149471e+00],\n",
              "       [ 6.62479287e-01,  3.56869893e-01,  4.02656924e-01,\n",
              "        -1.41552009e-01, -3.32971202e-01, -4.72474538e-01],\n",
              "       [ 3.23966297e-01, -3.63934904e-01,  3.01841340e+00,\n",
              "        -1.99531638e-01,  1.44988008e-03, -1.10768414e+00],\n",
              "       [ 2.25292474e-01, -4.89904263e-01,  4.53054045e-01,\n",
              "        -1.55902099e-01,  1.44262567e+00, -5.68802438e-01],\n",
              "       [-7.25175271e-01, -5.64163598e-01,  5.08626451e-02,\n",
              "        -3.31701689e-02,  1.91745835e-01,  1.76977201e+00],\n",
              "       [ 6.12261686e-01, -9.06391686e-01,  5.66882792e-01,\n",
              "        -1.65034669e-01,  9.72537764e-01, -1.19348046e+00],\n",
              "       [ 1.68391296e+00,  2.75770718e-01,  5.51710969e-01,\n",
              "        -1.13823121e-01,  1.20261808e+00, -9.96512042e-01],\n",
              "       [-1.65865117e+00,  2.75091850e-01,  1.22167046e-01,\n",
              "        -1.00807809e-01,  5.80043381e-01,  3.27965950e-01],\n",
              "       [ 1.19408990e+00, -8.11912347e-01,  3.63780030e+00,\n",
              "        -1.61858988e-01, -8.40702845e-01, -4.17767834e-01],\n",
              "       [-1.60149799e-01, -1.49214517e+00, -2.69452878e-01,\n",
              "        -1.44881441e-01, -8.03635050e-01,  6.09072516e-01],\n",
              "       [ 1.79090243e-01, -2.27734918e-01,  5.36346104e-01,\n",
              "        -1.17533638e-01,  1.05613217e+00,  9.46989497e-03],\n",
              "       [-5.69112542e-01, -4.20417903e-01,  7.18827510e-01,\n",
              "        -1.25691637e-01, -7.91340906e-01,  7.09228543e-01],\n",
              "       [-4.61865169e-01,  1.33529599e-01, -1.02572633e+00,\n",
              "        -6.70330583e-02, -1.21794071e+00,  2.93476863e-01],\n",
              "       [ 3.36924868e-01,  1.06062857e-01,  1.05836671e+00,\n",
              "        -1.19235101e-01, -3.09915662e-01, -9.75037953e-01],\n",
              "       [ 4.01169011e-01, -4.91105099e-01,  1.46169099e+00,\n",
              "        -1.46807382e-01, -8.11451461e-01, -1.54960068e-01],\n",
              "       [-6.22834515e-01, -6.25786641e-01, -7.70131952e-01,\n",
              "        -8.94665343e-02,  1.29252848e+00,  6.63107230e-02],\n",
              "       [ 1.40293661e+00, -5.76672146e-01,  3.44325677e-01,\n",
              "        -1.99142756e-01, -1.40400915e+00, -1.50203422e+00],\n",
              "       [-6.57803088e-01, -9.77923790e-02, -3.43756622e-01,\n",
              "        -1.35462812e-01,  1.09584824e+00,  2.32803023e-01],\n",
              "       [ 1.99362671e+00, -4.02993454e-01,  1.60774142e-01,\n",
              "        -2.16013384e-01, -9.58748358e-01, -1.68373996e+00],\n",
              "       [-1.41005138e+00,  3.61201138e-01,  7.41075721e-01,\n",
              "        -8.73971757e-02, -6.45427450e-01,  2.68539616e+00],\n",
              "       [-1.57153498e+00, -1.00551856e+00, -3.27823287e-01,\n",
              "        -1.10773218e-01,  1.70116460e-01,  3.21459215e-01],\n",
              "       [ 1.43436299e+00, -1.51772541e+00, -3.13512245e-01,\n",
              "        -1.45259865e-01, -8.52575049e-01,  8.75176484e-01],\n",
              "       [-1.17426283e+00,  3.48258434e-02, -1.09288310e+00,\n",
              "        -7.55566532e-02,  6.19093317e-01, -4.13390192e-01],\n",
              "       [ 1.30478936e+00, -2.78318452e-01, -1.10374372e+00,\n",
              "        -1.74680939e-01, -9.28112295e-01, -1.38306555e+00],\n",
              "       [ 5.79585780e-01, -1.59924119e-01, -1.18291477e+00,\n",
              "        -1.10531713e-01, -7.99095687e-01,  1.01446460e+00],\n",
              "       [-2.36210219e-01, -5.29699151e-01,  6.01407553e-01,\n",
              "        -1.00972103e-01, -3.38214682e-01,  1.82523136e-01],\n",
              "       [-1.46380130e+00, -5.86830748e-01, -1.03743154e-01,\n",
              "        -1.06844523e-01, -2.77258081e-01,  6.21097201e-01],\n",
              "       [ 8.49932852e-01, -4.53513876e-01,  6.56213885e-01,\n",
              "        -1.02434136e-01, -3.40832265e-01,  7.99345909e-01],\n",
              "       [-9.73816812e-01, -1.96659447e-01, -2.50909950e-01,\n",
              "        -1.10775755e-01, -1.27172503e+00,  5.07203015e-01],\n",
              "       [ 6.29233028e-01, -5.12901841e-01,  3.17004992e-01,\n",
              "        -1.40768975e-01,  1.06886186e+00,  1.31895321e-02],\n",
              "       [-1.74167825e+00,  9.97486592e-01,  7.07354595e-01,\n",
              "        -1.01075684e-01,  2.03082241e+00,  1.48246990e+00],\n",
              "       [ 1.66350711e+00,  6.01957777e-01, -1.24555796e+00,\n",
              "        -1.63646364e-01,  1.63385884e-02, -1.48672232e+00],\n",
              "       [ 6.01481510e-01, -9.79685805e-01, -1.14613795e+00,\n",
              "        -1.00622484e-01,  1.82806846e-01,  6.37397099e-01],\n",
              "       [-1.67848492e+00, -2.61247552e-01,  1.22888559e+00,\n",
              "        -1.29293907e-01,  1.71326922e-01,  2.24297600e-01],\n",
              "       [-2.84547061e-01,  6.47878675e-01, -1.18932788e+00,\n",
              "        -9.12805500e-02,  6.11424680e-01,  6.13175467e-01],\n",
              "       [ 1.14504806e+00, -2.62297322e-01,  4.76450517e-01,\n",
              "        -1.30016744e-01, -9.42638317e-01, -1.43241519e+00],\n",
              "       [ 9.98724026e-01, -3.76681064e-01,  3.69686909e-01,\n",
              "        -1.17322178e-01,  1.01336924e+00,  3.62248771e-01],\n",
              "       [-6.85250494e-01, -3.04612652e-01,  6.43779012e-01,\n",
              "        -1.32570968e-01, -7.94144253e-01,  7.02443822e-01],\n",
              "       [ 8.84333028e-01, -2.00731160e+00, -1.13778308e+00,\n",
              "        -1.28592279e-01, -4.57410124e-01, -8.52946054e-01],\n",
              "       [ 2.83956382e-01, -2.22681278e+00, -5.36077454e-01,\n",
              "        -1.24845404e-01,  2.88667857e-02, -1.40779520e+00],\n",
              "       [-9.25814918e-01, -7.81446331e-01, -8.78409529e-01,\n",
              "        -1.29119741e-01, -7.61541939e-01, -1.81555066e-01],\n",
              "       [ 8.57897870e-02, -5.62795388e-01, -1.05095224e-01,\n",
              "        -9.40605020e-02,  1.62105893e-01, -1.48973337e-01],\n",
              "       [-1.06357441e+00, -4.06578341e-01, -5.55724867e-02,\n",
              "        -1.29480262e-01,  1.06055280e+00,  9.45742090e-01],\n",
              "       [ 1.06818842e+00,  2.18777759e-02,  8.02494544e-01,\n",
              "        -1.06628297e-01,  5.20235279e-01,  8.84846874e-01],\n",
              "       [ 1.94930266e-01,  1.13291436e-01, -1.22789883e+00,\n",
              "        -1.35245476e-01,  1.25013774e-01, -1.08517964e+00],\n",
              "       [ 6.00839866e-01, -1.13814281e-01, -2.96974154e-01,\n",
              "        -1.20845275e-01, -8.04087169e-01,  1.05784566e-01],\n",
              "       [-6.21150368e-01, -7.65477684e-01,  2.17346208e+00,\n",
              "        -1.27772013e-01, -7.14020433e-01,  1.20644099e+00],\n",
              "       [ 7.24390196e-01, -8.69612329e-01,  1.37332492e+00,\n",
              "        -7.73882420e-02, -1.22437856e+00,  1.91220083e+00],\n",
              "       [-1.40668125e+00,  7.72830633e-02,  5.43152951e-01,\n",
              "        -8.73633143e-02,  6.36518828e-01, -6.69871250e-01],\n",
              "       [ 6.66683403e-01,  1.12236736e-01, -3.54425650e-01,\n",
              "        -1.29017244e-01, -8.54150951e-01, -4.80882413e-01],\n",
              "       [ 3.44944152e+00,  2.40046626e+00, -4.96611320e-01,\n",
              "        -1.63089617e-01, -1.55462962e+00, -1.35041202e+00],\n",
              "       [-2.09202717e+00,  3.38111781e+00, -1.75575281e-01,\n",
              "        -4.93650324e-02,  3.02390734e+00,  7.31029349e-01],\n",
              "       [ 6.14089239e-01,  2.03206177e+00, -3.97155934e-01,\n",
              "        -1.64065634e-01, -4.32246186e-01, -1.40058872e+00],\n",
              "       [-2.34706037e-01,  2.41276477e+00, -3.56969574e-01,\n",
              "        -1.44528729e-01,  1.97960594e+00, -2.00341729e-01],\n",
              "       [-6.45302441e-02, -1.27123415e+00,  7.00425254e-01,\n",
              "        -1.59733178e-01, -9.34430714e-01, -3.16663681e-01],\n",
              "       [ 1.94911226e-01, -1.51006343e+00, -1.08506810e+00,\n",
              "        -5.39946681e-02,  2.49149299e+00,  1.30880492e+00],\n",
              "       [ 9.68846755e-01,  4.54390615e-02,  1.17677557e+00,\n",
              "        -1.64024091e-01,  6.64159562e-03, -1.22473078e+00],\n",
              "       [-1.18174257e-01,  1.44667043e-01,  4.71316314e-01,\n",
              "        -1.19483283e-01,  1.00095094e+00, -6.05067456e-01],\n",
              "       [-1.26256758e+00, -8.76843686e-02, -3.44473129e-01,\n",
              "        -1.21393997e-01,  6.24632187e-01, -3.89585960e-01],\n",
              "       [ 7.90584570e-01, -1.91491623e-01, -1.20370345e+00,\n",
              "         7.72935105e+00, -3.26856390e-01,  1.52654786e-01],\n",
              "       [-4.04694299e-01,  2.56947144e+00, -1.09816947e-01,\n",
              "        -9.87345400e-02, -6.85745063e-01,  2.85945133e+00],\n",
              "       [ 2.22507767e-02,  3.05329622e+00, -4.19935333e-01,\n",
              "        -1.23604481e-01,  1.92107794e-01,  3.14313380e-01],\n",
              "       [-1.21644952e+00, -7.46740640e-02, -9.49945218e-01,\n",
              "        -9.96088854e-02, -1.24000043e+00,  3.93660013e-01],\n",
              "       [ 4.56759032e-01, -5.88777672e-01,  3.54820218e-01,\n",
              "        -1.33134862e-01,  5.98087329e-01,  1.89919577e-01],\n",
              "       [ 7.99427059e-01, -3.06361835e-01, -9.81050637e-02,\n",
              "        -1.26771600e-01, -4.15746440e-01,  1.14778706e-02],\n",
              "       [-5.26474325e-01, -1.57020686e-01,  6.50696404e-01,\n",
              "        -9.68952229e-02,  2.90599499e+00,  3.67385046e-01],\n",
              "       [-6.89163732e-01,  8.07171280e-02, -1.04269290e+00,\n",
              "        -1.13265875e-01, -1.25074082e+00, -6.67545552e-03],\n",
              "       [ 3.81504313e-01,  2.77147383e-01,  2.32465945e-01,\n",
              "        -9.07404012e-02,  1.61107153e-01, -6.07686366e-01],\n",
              "       [-1.52978492e+00,  3.67771965e+00,  9.05318377e-01,\n",
              "        -6.82488503e-02, -7.24120159e-01,  5.44404139e-01],\n",
              "       [ 1.02069074e+00,  2.79242353e+00,  3.66515721e-01,\n",
              "        -1.16990423e-01,  1.04923409e+00,  1.42195588e+00],\n",
              "       [-4.68025883e-01, -5.10882480e-01, -3.33607198e-01,\n",
              "        -1.64553967e-01,  1.12939372e-01, -2.12749450e-01],\n",
              "       [ 1.11367577e+00, -4.33014354e-01, -9.59773569e-01,\n",
              "        -1.25370122e-01,  5.13208635e-01,  5.09245248e-01],\n",
              "       [ 1.14463189e-01,  3.16230192e+00,  6.08970909e-01,\n",
              "        -1.33929671e-01, -1.23809591e+00,  6.42475257e-01],\n",
              "       [-5.85750431e-01,  3.45848434e+00, -3.32725493e-01,\n",
              "        -1.07201468e-01,  1.15892297e+00, -5.64530494e-03],\n",
              "       [ 2.55073514e-01, -6.31199582e-03,  4.30406922e-01,\n",
              "        -1.19958718e-01,  9.96762628e-01, -6.48567311e-01],\n",
              "       [ 1.41564502e+00,  1.52870756e-01, -1.13121603e+00,\n",
              "        -1.75369370e-01, -5.00492139e-01, -6.21132615e-01],\n",
              "       [-1.14290834e+00, -5.79355012e-01,  2.23631348e+00,\n",
              "        -9.80344098e-02, -7.49520902e-01,  4.24296963e-01],\n",
              "       [ 6.97481203e-01, -5.47630566e-01,  3.12949385e-01,\n",
              "        -1.36415999e-01,  1.22733796e-01, -4.73849009e-01]])"
            ]
          },
          "metadata": {
            "tags": []
          },
          "execution_count": 92
        }
      ]
    },
    {
      "cell_type": "markdown",
      "metadata": {
        "id": "WAlbpya-gPb3"
      },
      "source": [
        "##**9.Run Factor Analyzer อีกรอบ ด้วย paremeters จำนวน factor เท่ากับ 6**"
      ]
    },
    {
      "cell_type": "code",
      "metadata": {
        "id": "dIpPNstJf-66"
      },
      "source": [
        "from factor_analyzer import FactorAnalyzer\n",
        "sph_fa2 = FactorAnalyzer(n_factors=6)\n",
        "newsph_fa2 = sph_fa2.fit_transform(sph_drop)"
      ],
      "execution_count": 93,
      "outputs": []
    },
    {
      "cell_type": "code",
      "metadata": {
        "id": "ZXEf_EfJgiAF",
        "outputId": "2327b45e-36f1-4208-892b-5a253879750f",
        "colab": {
          "base_uri": "https://localhost:8080/"
        }
      },
      "source": [
        "sph_fa2.loadings_.shape"
      ],
      "execution_count": 94,
      "outputs": [
        {
          "output_type": "execute_result",
          "data": {
            "text/plain": [
              "(17, 6)"
            ]
          },
          "metadata": {
            "tags": []
          },
          "execution_count": 94
        }
      ]
    },
    {
      "cell_type": "markdown",
      "metadata": {
        "id": "AHEIE6f3gujW"
      },
      "source": [
        "\n",
        "Plot factor loadings"
      ]
    },
    {
      "cell_type": "code",
      "metadata": {
        "id": "gRYqhqk6gqU_"
      },
      "source": [
        "from matplotlib import pyplot as plt\n",
        "import numpy as np\n",
        "import matplotlib"
      ],
      "execution_count": 95,
      "outputs": []
    },
    {
      "cell_type": "markdown",
      "metadata": {
        "id": "i2DWSdhVhEMG"
      },
      "source": [
        "Matrix plot\n",
        "\n",
        "Confirmatory"
      ]
    },
    {
      "cell_type": "code",
      "metadata": {
        "id": "IyIuq914hAGR",
        "outputId": "dc86a4d5-3e2f-4141-eb36-8d667a2b3a2c",
        "colab": {
          "base_uri": "https://localhost:8080/",
          "height": 881
        }
      },
      "source": [
        "matplotlib.rcParams['figure.figsize']=[15,15]\n",
        "plt.imshow(np.absolute(sph_fa2.loadings_))"
      ],
      "execution_count": 96,
      "outputs": [
        {
          "output_type": "execute_result",
          "data": {
            "text/plain": [
              "<matplotlib.image.AxesImage at 0x7fdd5db39690>"
            ]
          },
          "metadata": {
            "tags": []
          },
          "execution_count": 96
        },
        {
          "output_type": "display_data",
          "data": {
            "image/png": "[encoded data removed]",
            "text/plain": [
              "<Figure size 1080x1080 with 1 Axes>"
            ]
          },
          "metadata": {
            "tags": [],
            "needs_background": "light"
          }
        }
      ]
    },
    {
      "cell_type": "markdown",
      "metadata": {
        "id": "DHxjHNFAhQsR"
      },
      "source": [
        "ทำกราฟแท่ง\n",
        "\n",
        "Exploratory"
      ]
    },
    {
      "cell_type": "code",
      "metadata": {
        "id": "Z0zYEEV2hLKx",
        "outputId": "190f465f-b1f4-4f3a-aeee-afdcf51e6855",
        "colab": {
          "base_uri": "https://localhost:8080/"
        }
      },
      "source": [
        "sph_drop.columns"
      ],
      "execution_count": 97,
      "outputs": [
        {
          "output_type": "execute_result",
          "data": {
            "text/plain": [
              "Index(['Goal Scored', 'Ball Possession %', 'Attempts', 'On-Target',\n",
              "       'Off-Target', 'Blocked', 'Corners', 'Offsides', 'Free Kicks', 'Saves',\n",
              "       'Pass Accuracy %', 'Passes', 'Distance Covered (Kms)',\n",
              "       'Fouls Committed', 'Yellow Card', 'Yellow & Red', 'Red'],\n",
              "      dtype='object')"
            ]
          },
          "metadata": {
            "tags": []
          },
          "execution_count": 97
        }
      ]
    },
    {
      "cell_type": "code",
      "metadata": {
        "id": "7HyDhhY6hXmt",
        "outputId": "20b09a7d-c582-403b-a42f-2287825fa82e",
        "colab": {
          "base_uri": "https://localhost:8080/",
          "height": 881
        }
      },
      "source": [
        "plt.bar(range(17),np.absolute(sph_fa2.loadings_[:,0]),tick_label=sph_drop.columns)"
      ],
      "execution_count": 98,
      "outputs": [
        {
          "output_type": "execute_result",
          "data": {
            "text/plain": [
              "<BarContainer object of 17 artists>"
            ]
          },
          "metadata": {
            "tags": []
          },
          "execution_count": 98
        },
        {
          "output_type": "display_data",
          "data": {
            "image/png": "[encoded data removed]",
            "text/plain": [
              "<Figure size 1080x1080 with 1 Axes>"
            ]
          },
          "metadata": {
            "tags": [],
            "needs_background": "light"
          }
        }
      ]
    },
    {
      "cell_type": "markdown",
      "metadata": {
        "id": "tNXQnuGGhloS"
      },
      "source": [
        "###**จากการวิเคราะห์ผล**\n",
        "สามารถสรุปผลได้ว่า มีตัวแปรอิสระ 6 ตัวแปร ที่สามารถอธิบายข้อมูลทั้งหมดได้และสามารถวิเคราะห์องค์ประกอบเชิงสำรวจ (Exporatory Factors Analysis) และ วิเคราะห์องค์ประกอบเชิงยืนยัน (Confirmatory Factors Analysis) ได้"
      ]
    }
  ]
}